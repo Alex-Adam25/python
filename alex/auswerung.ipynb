{
 "cells": [
  {
   "cell_type": "code",
   "execution_count": 155,
   "metadata": {},
   "outputs": [
    {
     "name": "stdout",
     "output_type": "stream",
     "text": [
      "<class 'pandas.core.frame.DataFrame'>\n",
      "RangeIndex: 14975 entries, 0 to 14974\n",
      "Data columns (total 5 columns):\n",
      " #   Column        Non-Null Count  Dtype         \n",
      "---  ------        --------------  -----         \n",
      " 0   Datum         14975 non-null  datetime64[ns]\n",
      " 1   DE KOOY-1     14975 non-null  int64         \n",
      " 2   DEN HELDER-1  14975 non-null  int64         \n",
      " 3   GRONINGEN-1   14975 non-null  int64         \n",
      " 4   TER APEL      14975 non-null  int64         \n",
      "dtypes: datetime64[ns](1), int64(4)\n",
      "memory usage: 585.1 KB\n"
     ]
    }
   ],
   "source": [
    "import numpy as np\n",
    "import pandas as pd\n",
    "import matplotlib.pyplot as plt\n",
    "\n",
    "i=144\n",
    "liste =[]\n",
    "namen =[]\n",
    "while i<148:\n",
    "    i+=1\n",
    "    path = f'RR_STAID000{i}.txt'\n",
    "    \n",
    "    df = pd.read_csv(path,skiprows=19)\n",
    "    df = df.iloc[:,2]\n",
    "    with open(path, 'r') as file:\n",
    "        string=file.readlines()[15][51:-2]\n",
    "        string=string.split('(')[0][:-1]\n",
    "        namen.append(string)\n",
    "        \n",
    "    #df['Name']=string\n",
    "    liste.append(df)\n",
    "s=pd.Series(liste,index=namen)\n",
    "date=pd.to_datetime(pd.read_csv(f'RR_STAID000144.txt',skiprows=19).iloc[:,1],format=\"%Y%m%d\")\n",
    "liste.insert(0,date)\n",
    "daten=pd.DataFrame(pd.concat(liste,axis=1))\n",
    "namen.insert(0,\"Datum\")\n",
    "daten.columns=namen\n",
    "daten.info()\n",
    "daten.to_csv(\"test.csv\")"
   ]
  }
 ],
 "metadata": {
  "kernelspec": {
   "display_name": "Python 3",
   "language": "python",
   "name": "python3"
  },
  "language_info": {
   "codemirror_mode": {
    "name": "ipython",
    "version": 3
   },
   "file_extension": ".py",
   "mimetype": "text/x-python",
   "name": "python",
   "nbconvert_exporter": "python",
   "pygments_lexer": "ipython3",
   "version": "3.8.5"
  }
 },
 "nbformat": 4,
 "nbformat_minor": 4
}
