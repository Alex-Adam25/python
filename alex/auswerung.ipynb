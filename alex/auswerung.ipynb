{
 "cells": [
  {
   "cell_type": "code",
   "execution_count": 45,
   "metadata": {},
   "outputs": [],
   "source": [
    "import numpy as np\n",
    "import pandas as pd\n",
    "import matplotlib.pyplot as plt\n",
    "\n",
    "i=144\n",
    "liste =[]\n",
    "namen =[]\n",
    "while i<148:\n",
    "    i+=1\n",
    "    path = f'RR_STAID000{i}.txt'\n",
    "    \n",
    "    df = pd.read_csv(path,skiprows=19)\n",
    "    liste.append(df)\n",
    "    \n",
    "    with open(path, 'r') as file:\n",
    "        namen.append(file.readlines()[15][51:-2])\n",
    "s=pd.Series(liste,index=namen)"
   ]
  },
  {
   "cell_type": "code",
   "execution_count": 52,
   "metadata": {},
   "outputs": [
    {
     "name": "stdout",
     "output_type": "stream",
     "text": [
      "DE KOOY-1 (STAID: 145)\n",
      "        SOUID      DATE     RR   Q_RR\n",
      "0      100497  19790101     15      0\n",
      "1      100497  19790102     50      0\n",
      "2      100497  19790103     15      0\n",
      "3      100497  19790104      0      0\n",
      "4      100497  19790105      0      0\n",
      "...       ...       ...    ...    ...\n",
      "14970  100497  20191227      0      0\n",
      "14971  100497  20191228      0      0\n",
      "14972  100497  20191229      0      0\n",
      "14973  100497  20191230      0      0\n",
      "14974  100497  20191231      0      0\n",
      "\n",
      "[14975 rows x 4 columns]\n",
      "DEN HELDER-1 (STAID: 146)\n",
      "        SOUID      DATE     RR   Q_RR\n",
      "0      152468  19790101     32      0\n",
      "1      152468  19790102     49      0\n",
      "2      152468  19790103     16      0\n",
      "3      152468  19790104      0      0\n",
      "4      152468  19790105      0      0\n",
      "...       ...       ...    ...    ...\n",
      "14970  152468  20191227      0      0\n",
      "14971  152468  20191228      0      0\n",
      "14972  152468  20191229      0      0\n",
      "14973  152468  20191230      0      0\n",
      "14974  152468  20191231      0      0\n",
      "\n",
      "[14975 rows x 4 columns]\n",
      "GRONINGEN-1 (STAID: 147)\n",
      "        SOUID      DATE     RR   Q_RR\n",
      "0      100499  19790101      0      0\n",
      "1      100499  19790102     29      0\n",
      "2      100499  19790103     31      0\n",
      "3      100499  19790104      0      0\n",
      "4      100499  19790105      0      0\n",
      "...       ...       ...    ...    ...\n",
      "14970  100499  20191227      0      0\n",
      "14971  100499  20191228      0      0\n",
      "14972  100499  20191229      0      0\n",
      "14973  100499  20191230      1      0\n",
      "14974  100499  20191231      2      0\n",
      "\n",
      "[14975 rows x 4 columns]\n",
      "TER APEL (STAID: 148)\n",
      "        SOUID      DATE     RR   Q_RR\n",
      "0      100500  19790101      0      0\n",
      "1      100500  19790102      0      0\n",
      "2      100500  19790103     17      0\n",
      "3      100500  19790104      0      0\n",
      "4      100500  19790105      0      0\n",
      "...       ...       ...    ...    ...\n",
      "14970  100500  20191227      0      0\n",
      "14971  100500  20191228      0      0\n",
      "14972  100500  20191229      0      0\n",
      "14973  100500  20191230      0      0\n",
      "14974  100500  20191231      0      0\n",
      "\n",
      "[14975 rows x 4 columns]\n"
     ]
    }
   ],
   "source": [
    "for index, value in s.items():\n",
    "    print(index)\n",
    "    print(value)"
   ]
  }
 ],
 "metadata": {
  "kernelspec": {
   "display_name": "Python 3",
   "language": "python",
   "name": "python3"
  },
  "language_info": {
   "codemirror_mode": {
    "name": "ipython",
    "version": 3
   },
   "file_extension": ".py",
   "mimetype": "text/x-python",
   "name": "python",
   "nbconvert_exporter": "python",
   "pygments_lexer": "ipython3",
   "version": "3.8.5"
  }
 },
 "nbformat": 4,
 "nbformat_minor": 4
}
