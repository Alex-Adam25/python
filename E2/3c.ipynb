{
 "cells": [
  {
   "cell_type": "code",
   "execution_count": 5,
   "metadata": {},
   "outputs": [
    {
     "name": "stdout",
     "output_type": "stream",
     "text": [
      "[[Fit Statistics]]\n",
      "    # fitting method   = leastsq\n",
      "    # function evals   = 6\n",
      "    # data points      = 11\n",
      "    # variables        = 2\n",
      "    chi-square         = 21.7375287\n",
      "    reduced chi-square = 2.41528097\n",
      "    Akaike info crit   = 11.4925942\n",
      "    Bayesian info crit = 12.2883848\n",
      "[[Variables]]\n",
      "    slope:      0.88614245 +/- 0.00907056 (1.02%) (init = 1)\n",
      "    intercept:  0.00345917 +/- 8.7664e-05 (2.53%) (init = 0)\n",
      "[[Correlations]] (unreported correlations are < 0.100)\n",
      "    C(slope, intercept) = -0.845\n"
     ]
    },
    {
     "data": {
      "image/png": "[encoded data removed]",
      "text/plain": [
       "<Figure size 432x288 with 1 Axes>"
      ]
     },
     "metadata": {
      "needs_background": "light"
     },
     "output_type": "display_data"
    }
   ],
   "source": [
    "#Braucht man halt, ne?\n",
    "from scipy import stats\n",
    "import math\n",
    "import numpy as np\n",
    "from matplotlib import pyplot as plt\n",
    "from lmfit import report_fit,fit_report\n",
    "from lmfit.models import LinearModel\n",
    "\n",
    "def split(value):\n",
    "    exp=int(math.log10(value))\n",
    "    man=value/10**exp\n",
    "    return exp, man\n",
    "#Reg's machen\n",
    "def fit(x,y,err):\n",
    "    weights=1/err\n",
    "    model = LinearModel(independent_vars=['x'])\n",
    "    result=model.fit(data=y,x=x,weights=weights)\n",
    "    v=[] #values\n",
    "    s=[] #stderr\n",
    "    #0:slope 1\n",
    "    print(fit_report(result))\n",
    "    for name, param in result.params.items():\n",
    "        v.append(param.value)\n",
    "        if(param.stderr==None):\n",
    "            s.append(0)\n",
    "        else:\n",
    "            s.append(param.stderr)\n",
    "    return v,s\n",
    "\n",
    "#zeichnet die gegebenen Messwerte inkl reg's, wird gespeichert falls save=True\n",
    "def zeichnen (x, y, label, err, speichername, xlabel, ylabel, titel=\" \", save=True):\n",
    "    #Alles für die 1. Werte\n",
    "    plt.plot(x, y, \"ok\", label=label)\n",
    "    plt.errorbar(x, y, yerr=err, color=\"b\", fmt='.', label=\"Fehler\")\n",
    "    reg = fit(x,y,err)\n",
    "    plt.plot(x, (reg[0][0]*x+reg[0][1]), color=\"k\")\n",
    "    #Rest des Plots, also z.B. Achsen usw. \n",
    "    plt.xlabel(xlabel)\n",
    "    plt.ylabel(ylabel)\n",
    "    plt.title((\"$U_H(B)$ = ({:.4f}$\\pm${:.4f}) * $B$ + ({:.4f}$\\pm${:.4f})\".format(reg[0][0],reg[1][0],reg[0][1],reg[1][1])))\n",
    "    plt.grid()\n",
    "    plt.legend()\n",
    "    if bool(save) == True:\n",
    "        plt.savefig(speichername)\n",
    "    plt.show()\n",
    "    return (reg)\n",
    "\n",
    "x=np.linspace(0,1,11)\n",
    "x=x*0.000001256637062*13000\n",
    "y=np.array([0.0032691,\n",
    "0.0049972,\n",
    "0.0065348,\n",
    "0.0078802,\n",
    "0.0090381,\n",
    "0.0105765,\n",
    "0.0123072,\n",
    "0.0136462,\n",
    "0.0151917,\n",
    "0.0163455,\n",
    "0.0178839])\n",
    "err=np.full(11,0.0001)\n",
    "reg = zeichnen (x=x, y=y, label=\"$U_H(B)$\", err=err, speichername=\"U_H(B)\", xlabel=\"$B/mT$\", ylabel=\"$U_H/mV$\", titel=\" \", save=True)\n",
    "\n"
   ]
  },
  {
   "cell_type": "code",
   "execution_count": 18,
   "metadata": {},
   "outputs": [
    {
     "ename": "TypeError",
     "evalue": "'float' object cannot be interpreted as an integer",
     "output_type": "error",
     "traceback": [
      "\u001b[1;31m---------------------------------------------------------------------------\u001b[0m",
      "\u001b[1;31mTypeError\u001b[0m                                 Traceback (most recent call last)",
      "\u001b[1;32m<ipython-input-18-326a0ed9173a>\u001b[0m in \u001b[0;36m<module>\u001b[1;34m\u001b[0m\n\u001b[1;32m----> 1\u001b[1;33m \u001b[0mx\u001b[0m\u001b[1;33m=\u001b[0m\u001b[0mnp\u001b[0m\u001b[1;33m.\u001b[0m\u001b[0mlinspace\u001b[0m\u001b[1;33m(\u001b[0m\u001b[1;36m1\u001b[0m\u001b[1;33m,\u001b[0m\u001b[1;36m0\u001b[0m\u001b[1;33m,\u001b[0m\u001b[1;36m0.2\u001b[0m\u001b[1;33m)\u001b[0m\u001b[1;33m\u001b[0m\u001b[1;33m\u001b[0m\u001b[0m\n\u001b[0m",
      "\u001b[1;32m<__array_function__ internals>\u001b[0m in \u001b[0;36mlinspace\u001b[1;34m(*args, **kwargs)\u001b[0m\n",
      "\u001b[1;32mC:\\ProgramData\\Anaconda3\\lib\\site-packages\\numpy\\core\\function_base.py\u001b[0m in \u001b[0;36mlinspace\u001b[1;34m(start, stop, num, endpoint, retstep, dtype, axis)\u001b[0m\n\u001b[0;32m    111\u001b[0m \u001b[1;33m\u001b[0m\u001b[0m\n\u001b[0;32m    112\u001b[0m     \"\"\"\n\u001b[1;32m--> 113\u001b[1;33m     \u001b[0mnum\u001b[0m \u001b[1;33m=\u001b[0m \u001b[0moperator\u001b[0m\u001b[1;33m.\u001b[0m\u001b[0mindex\u001b[0m\u001b[1;33m(\u001b[0m\u001b[0mnum\u001b[0m\u001b[1;33m)\u001b[0m\u001b[1;33m\u001b[0m\u001b[1;33m\u001b[0m\u001b[0m\n\u001b[0m\u001b[0;32m    114\u001b[0m     \u001b[1;32mif\u001b[0m \u001b[0mnum\u001b[0m \u001b[1;33m<\u001b[0m \u001b[1;36m0\u001b[0m\u001b[1;33m:\u001b[0m\u001b[1;33m\u001b[0m\u001b[1;33m\u001b[0m\u001b[0m\n\u001b[0;32m    115\u001b[0m         \u001b[1;32mraise\u001b[0m \u001b[0mValueError\u001b[0m\u001b[1;33m(\u001b[0m\u001b[1;34m\"Number of samples, %s, must be non-negative.\"\u001b[0m \u001b[1;33m%\u001b[0m \u001b[0mnum\u001b[0m\u001b[1;33m)\u001b[0m\u001b[1;33m\u001b[0m\u001b[1;33m\u001b[0m\u001b[0m\n",
      "\u001b[1;31mTypeError\u001b[0m: 'float' object cannot be interpreted as an integer"
     ]
    }
   ],
   "source": []
  }
 ],
 "metadata": {
  "kernelspec": {
   "display_name": "Python 3",
   "language": "python",
   "name": "python3"
  },
  "language_info": {
   "codemirror_mode": {
    "name": "ipython",
    "version": 3
   },
   "file_extension": ".py",
   "mimetype": "text/x-python",
   "name": "python",
   "nbconvert_exporter": "python",
   "pygments_lexer": "ipython3",
   "version": "3.7.7"
  }
 },
 "nbformat": 4,
 "nbformat_minor": 4
}
