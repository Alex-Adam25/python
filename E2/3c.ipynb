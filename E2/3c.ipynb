{
 "cells": [
  {
   "cell_type": "code",
   "execution_count": 12,
   "metadata": {},
   "outputs": [
    {
     "data": {
      "image/png": "[encoded data removed]",
      "text/plain": [
       "<Figure size 432x288 with 1 Axes>"
      ]
     },
     "metadata": {
      "needs_background": "light"
     },
     "output_type": "display_data"
    }
   ],
   "source": [
    "#Braucht man halt, ne?\n",
    "from scipy import stats\n",
    "import math\n",
    "import numpy as np\n",
    "from matplotlib import pyplot as plt\n",
    "from lmfit import report_fit\n",
    "from lmfit.models import LinearModel\n",
    "\n",
    "def split(value):\n",
    "    exp=int(math.log10(value))\n",
    "    man=value/10**exp\n",
    "    return exp, man\n",
    "#Reg's machen\n",
    "def fit(x,y,err):\n",
    "    weights=1/err\n",
    "    model = LinearModel(independent_vars=['x'])\n",
    "    result=model.fit(data=y,x=x,weights=weights)\n",
    "    v=[] #values\n",
    "    s=[] #stderr\n",
    "    #0:slope 1\n",
    "    for name, param in result.params.items():\n",
    "        v.append(param.value)\n",
    "        if(param.stderr==None):\n",
    "            s.append(0)\n",
    "        else:\n",
    "            s.append(param.stderr)\n",
    "    return v,s\n",
    "\n",
    "#zeichnet die gegebenen Messwerte inkl reg's, wird gespeichert falls save=True\n",
    "def zeichnen (x, y, label, err, speichername, xlabel, ylabel, titel=\" \", save=True):\n",
    "    #Alles für die 1. Werte\n",
    "    plt.plot(x, y, \"ok\", label=label)\n",
    "    plt.errorbar(x, y, yerr=err, color=\"b\", fmt='.', label=\"Fehler\")\n",
    "    reg = fit(x,y,err)\n",
    "    plt.plot(x, (reg[0][0]*x+reg[0][1]), color=\"k\")\n",
    "    #Rest des Plots, also z.B. Achsen usw. \n",
    "    plt.xlabel(xlabel)\n",
    "    plt.ylabel(ylabel)\n",
    "    plt.title((\"$f(x)$ = ({:.4f}$\\pm${:.4f}) * $x$ + ({:.4f}$\\pm${:.4f})\".format(reg[0][0],reg[1][0],reg[0][1],reg[1][1])))\n",
    "    plt.grid()\n",
    "    plt.legend()\n",
    "    if bool(save) == True:\n",
    "        plt.savefig(speichername)\n",
    "    plt.show()\n",
    "    return (reg)\n",
    "\n",
    "x=np.array([1,2,3,4,5])\n",
    "y=np.array([1,3,3,4,7])\n",
    "err=np.array([1,1,1,0.1,1])\n",
    "reg = zeichnen (x=x, y=y, label=\"$T^2$\", err=err, speichername=\"T^2(d^2)\", xlabel=\"$d^2/m^2$\", ylabel=\"$T^2/s^2$\", titel=\" \", save=False)\n",
    "\n"
   ]
  },
  {
   "cell_type": "code",
   "execution_count": null,
   "metadata": {},
   "outputs": [],
   "source": []
  }
 ],
 "metadata": {
  "kernelspec": {
   "display_name": "Python 3",
   "language": "python",
   "name": "python3"
  },
  "language_info": {
   "codemirror_mode": {
    "name": "ipython",
    "version": 3
   },
   "file_extension": ".py",
   "mimetype": "text/x-python",
   "name": "python",
   "nbconvert_exporter": "python",
   "pygments_lexer": "ipython3",
   "version": "3.7.7"
  }
 },
 "nbformat": 4,
 "nbformat_minor": 4
}
