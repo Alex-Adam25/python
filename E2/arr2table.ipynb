{
 "cells": [
  {
   "cell_type": "code",
   "execution_count": 1,
   "metadata": {},
   "outputs": [],
   "source": [
    "import numpy as np\n",
    "def table(align,head,val,err,cap,lab):\n",
    "    #align: entweder 'l','c','r'\n",
    "    #align=\"c\"\n",
    "    \n",
    "    #head: np.array an titeln der spalten['a','b','c']\n",
    "    #head=np.array(['a','b','c'])\n",
    "    \n",
    "    #val: np.array mit [] mit den Values zu den titeln[[1,2,3],[2,4,6],[3,6,9]]\n",
    "    #val=np.array([[1,3,3],[9,4,6],[3,3,4]])\n",
    "    \n",
    "    #err: np.array mit [] zu den Values,[0] wenn keine error existieren\n",
    "    #,wenn das array 1 wert besitz wird dieser für alle genommen ([[0.1,0.2,0.1],[0],[0.1]],dtype=object)\n",
    "    #err=np.array([[0.1,0.2,0.1],[0],[0.1]],dtype=object)\n",
    "\n",
    "    #cap: die caption\n",
    "    #cap=\"jo\"\n",
    "    \n",
    "    #lab: label mit tab: davor\n",
    "    #lab=\"1a\" => label: Tab:1a\n",
    "    \n",
    "    size=len(val)\n",
    "    fehler=np.zeros_like(val,dtype=np.dtype(np.float32))\n",
    "    val=np.transpose(val)\n",
    "    a=(align+\"|\")*(size-1)+align\n",
    "    tex=\"\\\\begin{table}[H] \\n\\\\centering \\n\\\\caption{\"+cap+\"} \\n\\\\begin{tabular}{\"+a+\"} \\n\"\n",
    "    \n",
    "    for string in head:\n",
    "        tex+=string+\"\\t &\"\n",
    "    tex=tex[:-1]+\"\\\\\\\\\"+\"\\\\hline\"+\"\\n\"\n",
    "    \n",
    "    \n",
    "    for i,array in enumerate(err): \n",
    "        if(len(array)==len(val)):\n",
    "            fehler[i]=array\n",
    "        elif(len(array)==1):\n",
    "            fehler[i]=np.full(len(val),array)\n",
    "        else:\n",
    "            print(\"Error größe stimmt nicht mit values überein\")\n",
    "            print(i)\n",
    "            print(array)\n",
    "\n",
    "    fehler=np.transpose(fehler)\n",
    "      \n",
    "    for i,array in enumerate(val):\n",
    "               \n",
    "        for j,v in enumerate(array):\n",
    "            if(fehler[i,j]==0):\n",
    "                tex=tex+str(v)+\"\\t&\"\n",
    "            else:\n",
    "                tex=tex+str(v)+\"$\\\\pm$\"+str(fehler[i,j])+\"\\t&\"\n",
    "            \n",
    "        tex=tex[:-1]+\"\\\\\\\\ \\n\"\n",
    "            \n",
    "    tex=tex[:-4]+\"\\n\"\n",
    "        \n",
    "    tex=tex+\"\\\\label{Tab:\"+lab+\"} \\n\\\\end{tabular} \\n\\\\end{table}\"\n",
    "    return tex\n"
   ]
  },
  {
   "cell_type": "code",
   "execution_count": 2,
   "metadata": {},
   "outputs": [
    {
     "name": "stdout",
     "output_type": "stream",
     "text": [
      "\\begin{table}[H] \n",
      "\\centering \n",
      "\\caption{jo} \n",
      "\\begin{tabular}{c|c|c|c} \n",
      "a\t &b\t &c\t &d\t \\\\\\hline\n",
      "1$\\pm$0.1\t&9\t&3$\\pm$0.1\t&5$\\pm$7.0\t\\\\ \n",
      "3$\\pm$0.2\t&4\t&3$\\pm$0.1\t&5$\\pm$7.0\t\\\\ \n",
      "3$\\pm$0.1\t&6\t&4$\\pm$0.1\t&5$\\pm$7.0\t\n",
      "\\label{Tab:1a} \n",
      "\\end{tabular} \n",
      "\\end{table}\n"
     ]
    }
   ],
   "source": [
    "head=np.array(['a','b','c','d'])\n",
    "val=np.array([[1,3,3],[9,4,6],[3,3,4],[5,5,5]])\n",
    "err=np.array([[0.1,0.2,0.1],[0],[0.1],[7]],dtype=object)\n",
    "x=table(align=\"c\",head=head,val=val,err=err,cap=\"jo\",lab=\"1a\")\n",
    "print(x)"
   ]
  }
 ],
 "metadata": {
  "kernelspec": {
   "display_name": "Python 3",
   "language": "python",
   "name": "python3"
  },
  "language_info": {
   "codemirror_mode": {
    "name": "ipython",
    "version": 3
   },
   "file_extension": ".py",
   "mimetype": "text/x-python",
   "name": "python",
   "nbconvert_exporter": "python",
   "pygments_lexer": "ipython3",
   "version": "3.7.7"
  }
 },
 "nbformat": 4,
 "nbformat_minor": 4
}
