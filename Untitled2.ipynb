{
 "cells": [
  {
   "cell_type": "code",
   "execution_count": 3,
   "metadata": {},
   "outputs": [],
   "source": [
    "%matplotlib inline"
   ]
  },
  {
   "cell_type": "code",
   "execution_count": null,
   "metadata": {},
   "outputs": [],
   "source": [
    "import matplotlib.animation as animation\n",
    "import matplotlib.pyplot as plt\n",
    "import numpy as np\n",
    "import seaborn as sns\n",
    "\n",
    "\n",
    "def animate_heat_map():\n",
    "    fig = plt.figure()\n",
    "\n",
    "    nx = ny = 20\n",
    "    data = np.random.rand(nx, ny)\n",
    "    ax = sns.heatmap(data, vmin=0, vmax=1)\n",
    "\n",
    "    def init():\n",
    "        plt.clf()\n",
    "        ax = sns.heatmap(data, vmin=0, vmax=1)\n",
    "\n",
    "    def animate(i):\n",
    "        plt.clf()\n",
    "        data = np.random.rand(nx, ny)\n",
    "        ax = sns.heatmap(data, vmin=0, vmax=1)\n",
    "\n",
    "    anim = animation.FuncAnimation(fig, animate, init_func=init, interval=1000)\n",
    "\n",
    "    plt.show()\n",
    "\n",
    "\n",
    "animate_heat_map()"
   ]
  }
 ],
 "metadata": {
  "kernelspec": {
   "display_name": "Python 3",
   "language": "python",
   "name": "python3"
  },
  "language_info": {
   "codemirror_mode": {
    "name": "ipython",
    "version": 3
   },
   "file_extension": ".py",
   "mimetype": "text/x-python",
   "name": "python",
   "nbconvert_exporter": "python",
   "pygments_lexer": "ipython3",
   "version": "3.8.5"
  }
 },
 "nbformat": 4,
 "nbformat_minor": 4
}
