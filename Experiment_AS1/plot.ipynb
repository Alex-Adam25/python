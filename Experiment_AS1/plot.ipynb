{
 "cells": [
  {
   "cell_type": "code",
   "execution_count": 11,
   "metadata": {},
   "outputs": [
    {
     "data": {
      "text/plain": [
       "array([0.69951539, 0.53353756, 0.50064491, 0.48681537, 0.4572285 ])"
      ]
     },
     "execution_count": 11,
     "metadata": {},
     "output_type": "execute_result"
    }
   ],
   "source": [
    "%run ../odr_v2.ipynb\n",
    "%run ../arr2table_v3.2.ipynb\n",
    "#Rot,Grün,Hellblau,Blau,Violett\n",
    "cd=np.array([643.84696,508.5824,479.9914,467.8136,441.463])*1e-9\n",
    "#cd=np.flip(cd)\n",
    "d1=1e-6\n",
    "np.arcsin(cd/d1)"
   ]
  },
  {
   "cell_type": "code",
   "execution_count": 6,
   "metadata": {},
   "outputs": [],
   "source": []
  }
 ],
 "metadata": {
  "kernelspec": {
   "display_name": "Python 3",
   "language": "python",
   "name": "python3"
  },
  "language_info": {
   "codemirror_mode": {
    "name": "ipython",
    "version": 3
   },
   "file_extension": ".py",
   "mimetype": "text/x-python",
   "name": "python",
   "nbconvert_exporter": "python",
   "pygments_lexer": "ipython3",
   "version": "3.8.5"
  }
 },
 "nbformat": 4,
 "nbformat_minor": 4
}
