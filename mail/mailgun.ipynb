{
 "cells": [
  {
   "cell_type": "code",
   "execution_count": 1,
   "metadata": {},
   "outputs": [],
   "source": [
    "import numpy as np"
   ]
  },
  {
   "cell_type": "code",
   "execution_count": 10,
   "metadata": {},
   "outputs": [],
   "source": [
    "api=np.loadtxt(\"api.txt\",dtype=str)"
   ]
  },
  {
   "cell_type": "code",
   "execution_count": 11,
   "metadata": {},
   "outputs": [
    {
     "data": {
      "text/plain": [
       "<Response [200]>"
      ]
     },
     "execution_count": 11,
     "metadata": {},
     "output_type": "execute_result"
    }
   ],
   "source": [
    "import requests\n",
    "def send_simple_message():\n",
    "    return requests.post(\n",
    "        f\"{api[1]}/messages\",\n",
    "        auth=(\"api\", f\"{api[0]}\"),\n",
    "        data={\"from\": f\"Mailgun Sandbox <{api[3]}>\",\n",
    "            \"to\": f\"Mr Was Geht Sie Das An <{api[2]}>\",\n",
    "            \"subject\": \"Hello Mr Was Geht Sie Das An\",\n",
    "            \"text\": \"Congratulations Mr Was Geht Sie Das An, you just sent an email with Mailgun!  You are truly awesome!\"})\n",
    "\n",
    "# You can see a record of this email in your logs: https://app.mailgun.com/app/logs.\n",
    "\n",
    "# You can send up to 300 emails/day from this sandbox server.\n",
    "# Next, you should add your own domain so you can send 10000 emails/month for free.\n",
    "send_simple_message()"
   ]
  }
 ],
 "metadata": {
  "kernelspec": {
   "display_name": "Python [conda env:Anaconda3] *",
   "language": "python",
   "name": "conda-env-Anaconda3-py"
  },
  "language_info": {
   "codemirror_mode": {
    "name": "ipython",
    "version": 3
   },
   "file_extension": ".py",
   "mimetype": "text/x-python",
   "name": "python",
   "nbconvert_exporter": "python",
   "pygments_lexer": "ipython3",
   "version": "3.8.5"
  }
 },
 "nbformat": 4,
 "nbformat_minor": 4
}
