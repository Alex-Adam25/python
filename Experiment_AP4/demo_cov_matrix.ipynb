{
 "cells": [
  {
   "cell_type": "code",
   "execution_count": 4,
   "metadata": {},
   "outputs": [
    {
     "data": {
      "image/png": "[encoded data removed]",
      "text/plain": [
       "<Figure size 432x288 with 1 Axes>"
      ]
     },
     "metadata": {
      "needs_background": "light"
     },
     "output_type": "display_data"
    },
    {
     "name": "stdout",
     "output_type": "stream",
     "text": [
      "y werte wurden leicht gescramblet \n",
      "y_err=0.0001\n",
      "\n",
      "curve_fit:\n",
      "[3.00375132 0.89953238]\n",
      "Fehler:\n",
      "absolute_sigma:False/scalierung an\n",
      "[0.02495453 0.14480825]\n",
      "absolute_sigma:True/scalierung aus\n",
      "[0.0480196  0.27865221]\n",
      "\n",
      "odr:\n",
      "[3.01271231 0.8547274 ]\n",
      "Fehler:\n",
      "sd_beta/scalierung an\n",
      "[0.02502153 0.14514705]\n",
      "aus cov matrix mit scalierung von res_var:\n",
      "[0.02502153 0.14514705]\n",
      "aus cov matrix ohne scalierung von res_var:\n",
      "[0.15263496 0.88541794]\n",
      "Beta: [3.01271231 0.8547274 ]\n",
      "Beta Std Error: [0.02502153 0.14514705]\n",
      "Beta Covariance: [[ 0.02329743 -0.11648718]\n",
      " [-0.11648718  0.78396492]]\n",
      "Residual Variance: 0.02687322658899519\n",
      "Inverse Condition #: 0.008685855355873453\n",
      "Reason(s) for Halting:\n",
      "  Sum of squares convergence\n"
     ]
    }
   ],
   "source": [
    "%run ./odr.ipynb\n",
    "import numpy as np\n",
    "from scipy.optimize import curve_fit\n",
    "\n",
    "def f(x,m,b):\n",
    "    return m*x+b\n",
    "xdata = np.linspace(0, 10, 50)\n",
    "np.random.seed(1729)\n",
    "ydata = f(xdata,3,1)\n",
    "y_noise = 0.5 * np.random.normal(size=xdata.size)\n",
    "ydata = ydata + y_noise\n",
    "y_err = np.full(len(ydata),1)\n",
    "popt, pcov = curve_fit(f, xdata, ydata,sigma=y_err,absolute_sigma=False)\n",
    "popt_true, pcov_true = curve_fit(f, xdata, ydata,sigma=y_err,absolute_sigma=True)\n",
    "\n",
    "perr = np.sqrt(np.diag(pcov))\n",
    "perr_ture = np.sqrt(np.diag(pcov_true))\n",
    "\n",
    "\n",
    "out=zeichnen(xdata,ydata,y_err=y_err)\n",
    "\n",
    "print(\"y werte wurden leicht gescramblet \")\n",
    "print(\"y_err=0.0001\")\n",
    "\n",
    "print(\"\\ncurve_fit:\")\n",
    "print(popt)\n",
    "print(\"Fehler:\")\n",
    "print(\"absolute_sigma:False/scalierung an\")\n",
    "print(perr)\n",
    "print(\"absolute_sigma:True/scalierung aus\")\n",
    "print(perr_ture)\n",
    "\n",
    "print(\"\\nodr:\")\n",
    "print(out.beta)\n",
    "print(\"Fehler:\")\n",
    "print(\"sd_beta/scalierung an\")\n",
    "print(out.sd_beta)\n",
    "print(\"aus cov matrix mit scalierung von res_var:\")\n",
    "print(np.sqrt(np.diag(out.cov_beta*out.res_var)))\n",
    "print(\"aus cov matrix ohne scalierung von res_var:\")\n",
    "print(np.sqrt(np.diag(out.cov_beta)))\n",
    "out.pprint()"
   ]
  },
  {
   "cell_type": "code",
   "execution_count": null,
   "metadata": {},
   "outputs": [],
   "source": []
  }
 ],
 "metadata": {
  "kernelspec": {
   "display_name": "Python 3",
   "language": "python",
   "name": "python3"
  },
  "language_info": {
   "codemirror_mode": {
    "name": "ipython",
    "version": 3
   },
   "file_extension": ".py",
   "mimetype": "text/x-python",
   "name": "python",
   "nbconvert_exporter": "python",
   "pygments_lexer": "ipython3",
   "version": "3.8.5"
  }
 },
 "nbformat": 4,
 "nbformat_minor": 4
}
