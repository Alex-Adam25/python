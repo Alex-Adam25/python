{
 "cells": [
  {
   "cell_type": "markdown",
   "metadata": {},
   "source": [
    "## U2_05 & pI_05 :"
   ]
  },
  {
   "cell_type": "code",
   "execution_count": 1,
   "metadata": {
    "jupyter": {
     "source_hidden": true
    }
   },
   "outputs": [],
   "source": [
    "import numpy as np\n",
    "\n",
    "U2_05=np.array([0,\n",
    "0.6,\n",
    "1.1,\n",
    "1.5,\n",
    "1.9,\n",
    "2.4,\n",
    "3,\n",
    "3.5,\n",
    "3.9,\n",
    "4.4,\n",
    "4.9,\n",
    "5.5,\n",
    "5.9,\n",
    "6.5,\n",
    "7,\n",
    "7.5,\n",
    "8,\n",
    "8.6,\n",
    "9,\n",
    "9.6,\n",
    "10.1,\n",
    "10.5,\n",
    "11,\n",
    "11.5,\n",
    "12.1,\n",
    "12.5,\n",
    "13.1,\n",
    "13.5,\n",
    "13.9,\n",
    "14.5,\n",
    "15,\n",
    "15.5,\n",
    "16.1,\n",
    "16.5,\n",
    "16.9,\n",
    "17.5,\n",
    "18,\n",
    "18.5,\n",
    "19.1,\n",
    "19.6,\n",
    "20.1,\n",
    "20.5,\n",
    "21,\n",
    "21.5,\n",
    "22,\n",
    "22.6,\n",
    "23,\n",
    "23.6,\n",
    "24,\n",
    "24.5,\n",
    "25,\n",
    "25.5,\n",
    "26.1,\n",
    "26.5,\n",
    "27.1,\n",
    "27.4,\n",
    "28,\n",
    "28.4,\n",
    "29,\n",
    "29.6,\n",
    "30.1,\n",
    "30.5,\n",
    "31.3])"
   ]
  },
  {
   "cell_type": "code",
   "execution_count": 2,
   "metadata": {
    "jupyter": {
     "source_hidden": true
    }
   },
   "outputs": [],
   "source": [
    "pI_05=np.array([\n",
    "11,\n",
    "13,\n",
    "17,\n",
    "20,\n",
    "25,\n",
    "30,\n",
    "38,\n",
    "37,\n",
    "38,\n",
    "44,\n",
    "62,\n",
    "94,\n",
    "122,\n",
    "171,\n",
    "159,\n",
    "131,\n",
    "110,\n",
    "104,\n",
    "116,\n",
    "144,\n",
    "204,\n",
    "246,\n",
    "321,\n",
    "360,\n",
    "281,\n",
    "241,\n",
    "181,\n",
    "177,\n",
    "199,\n",
    "246,\n",
    "344,\n",
    "458,\n",
    "528,\n",
    "520,\n",
    "424,\n",
    "314,\n",
    "261,\n",
    "267,\n",
    "315,\n",
    "409,\n",
    "499,\n",
    "650,\n",
    "713,\n",
    "655,\n",
    "624,\n",
    "458,\n",
    "400,\n",
    "413,\n",
    "469,\n",
    "584,\n",
    "722,\n",
    "922,\n",
    "992,\n",
    "905,\n",
    "723,\n",
    "629,\n",
    "558,\n",
    "541,\n",
    "601,\n",
    "745,\n",
    "934,\n",
    "1043,\n",
    "1045])"
   ]
  },
  {
   "cell_type": "code",
   "execution_count": 3,
   "metadata": {
    "jupyter": {
     "source_hidden": true
    }
   },
   "outputs": [],
   "source": [
    "U2_10=np.array([0.00,\n",
    "0.90,\n",
    "1.90,\n",
    "2.90,\n",
    "3.90,\n",
    "5.00,\n",
    "6.00,\n",
    "7.00,\n",
    "8.00,\n",
    "8.90,\n",
    "10.00,\n",
    "11.00,\n",
    "12.00,\n",
    "12.90,\n",
    "14.00,\n",
    "15.00,\n",
    "16.00,\n",
    "17.00,\n",
    "17.90,\n",
    "19.00,\n",
    "20.00,\n",
    "20.90,\n",
    "21.90,\n",
    "23.00,\n",
    "23.90,\n",
    "24.90,\n",
    "26.00,\n",
    "27.00,\n",
    "28.00,\n",
    "28.90,\n",
    "29.90,\n",
    "31.30])"
   ]
  },
  {
   "cell_type": "code",
   "execution_count": 4,
   "metadata": {
    "jupyter": {
     "source_hidden": true
    }
   },
   "outputs": [],
   "source": [
    "pI_10=np.array([15.60,\n",
    "24.90,\n",
    "46.60,\n",
    "51.20,\n",
    "57.00,\n",
    "84.40,\n",
    "146.10,\n",
    "191.10,\n",
    "126.90,\n",
    "140.20,\n",
    "229.00,\n",
    "400.00,\n",
    "361.00,\n",
    "232.00,\n",
    "245.00,\n",
    "424.00,\n",
    "656.00,\n",
    "437.00,\n",
    "277.00,\n",
    "299.00,\n",
    "534.00,\n",
    "774.00,\n",
    "687.00,\n",
    "357.00,\n",
    "415.00,\n",
    "625.00,\n",
    "857.00,\n",
    "697.00,\n",
    "464.00,\n",
    "502.00,\n",
    "697.00,\n",
    "846.00])"
   ]
  },
  {
   "cell_type": "code",
   "execution_count": 5,
   "metadata": {},
   "outputs": [
    {
     "data": {
      "image/png": "[encoded data removed]",
      "text/plain": [
       "<Figure size 432x288 with 1 Axes>"
      ]
     },
     "metadata": {
      "needs_background": "light"
     },
     "output_type": "display_data"
    }
   ],
   "source": [
    "import matplotlib.pyplot as plt\n",
    "from scipy.optimize import curve_fit\n",
    "np.polyfit\n",
    "\n",
    "U2_05_err=np.full(len(U2_05),0.1)\n",
    "pI_05_err=np.full(len(U2_05),5)\n",
    "U2_10_err=np.full(len(U2_10),0.1)\n",
    "pI_10_err=np.full(len(U2_10),5)\n",
    "\n",
    "plt.errorbar(U2_05, pI_05, xerr=U2_05_err, yerr=pI_05_err,\n",
    "             color=\"b\", fmt='-', label=\"Messwerte mit Fehler\",capsize=3)\n",
    "\n",
    "    \n",
    "min1=np.array([8.5,8.4,8.5])\n",
    "min2=np.array([13.4,13.4,13.5])\n",
    "min3=np.array([18.4,18.4,18.5])\n",
    "min4=np.array([23.2,23.2,23.2])\n",
    "min5=np.array([28.5,28.5,28.5])\n",
    "\n",
    "minimum=np.array([np.array([8.5,8.4,8.5]),\n",
    "np.array([13.4,13.4,13.5]),\n",
    "np.array([18.4,18.4,18.5]),\n",
    "np.array([23.2,23.2,23.2]),\n",
    "np.array([28.5,28.5,28.5])])\n",
    "\n",
    "miniavg=np.full(len(minimum),0.)\n",
    "for i,mini in enumerate(minimum):\n",
    "    miniavg[i]=np.mean(minimum[i])\n",
    "\n",
    "plt.axvline(np.average(minimum[0]),color='r',label=\"Minima\")\n",
    "plt.axvline(np.average(minimum[1]),color='r')\n",
    "plt.axvline(np.average(minimum[2]),color='r')\n",
    "plt.axvline(np.average(minimum[3]),color='r')\n",
    "plt.axvline(np.average(minimum[4]),color='r')\n",
    "\n",
    "plt.title('$U_1=5,09V\\quad U_3=0,00V\\quad T=164^\\circ C$')\n",
    "plt.legend()\n",
    "plt.xlabel(\"$U_2$ [V]\")\n",
    "plt.ylabel(\"$I_A$ [pA]\")\n",
    "plt.savefig(\"0.5.png\",dpi=300)\n",
    "plt.show()\n",
    "\n"
   ]
  },
  {
   "cell_type": "code",
   "execution_count": 6,
   "metadata": {},
   "outputs": [
    {
     "name": "stdout",
     "output_type": "stream",
     "text": [
      "\\begin{table}[H] \n",
      "\\centering \n",
      "\\caption{Minima des HG-Dampfes} \n",
      "\\begin{tabular}{c|c|c|c|c} \n",
      "Minima 1\t &Minima 2\t &Minima 3\t &Minima 4\t &Minima 5\t \\\\\\hline\n",
      "8.50$\\pm$1.00\t&13.40$\\pm$0.10\t&18.40$\\pm$0.10\t&23.20$\\pm$0.10\t&28.50$\\pm$0.10\t\\\\ \n",
      "8.40$\\pm$1.00\t&13.40$\\pm$0.10\t&18.40$\\pm$0.10\t&23.20$\\pm$0.10\t&28.50$\\pm$0.10\t\\\\ \n",
      "8.50$\\pm$1.00\t&13.50$\\pm$0.10\t&18.50$\\pm$0.10\t&23.20$\\pm$0.10\t&28.50$\\pm$0.10\t\n",
      "\\label{Tab:min} \n",
      "\\end{tabular} \n",
      "\\end{table}\n"
     ]
    }
   ],
   "source": [
    "%run ./arr2table_v3.2.ipynb\n",
    "head=[\"Minima 1\",\"Minima 2\",\"Minima 3\",\"Minima 4\",\"Minima 5\"]\n",
    "align='c'\n",
    "val=[min1,min2,min3,min4,min5]\n",
    "err=[[1],[0.1],[0.1],[0.1],[0.1]]\n",
    "#err=[1,0.1,0.1,0.1,0.1] \n",
    "cap=\"Minima des HG-Dampfes\"\n",
    "lab=\"min\"\n",
    "nk=2\n",
    "print(table(align,head,val,err,cap,lab,nk,longtable=False,copy=True))\n"
   ]
  },
  {
   "cell_type": "code",
   "execution_count": 7,
   "metadata": {},
   "outputs": [
    {
     "data": {
      "text/plain": [
       "False"
      ]
     },
     "execution_count": 7,
     "metadata": {},
     "output_type": "execute_result"
    }
   ],
   "source": [
    "(type(err[0])==int or type(err[1])==float)"
   ]
  },
  {
   "cell_type": "code",
   "execution_count": 8,
   "metadata": {},
   "outputs": [
    {
     "data": {
      "image/png": "[encoded data removed]",
      "text/plain": [
       "<Figure size 432x288 with 1 Axes>"
      ]
     },
     "metadata": {
      "needs_background": "light"
     },
     "output_type": "display_data"
    }
   ],
   "source": [
    "U2_10_err=np.full(len(U2_10),0.1)\n",
    "pI_10_err=np.full(len(U2_10),5)\n",
    "\n",
    "\n",
    "plt.errorbar(U2_10, pI_10, xerr=U2_10_err, yerr=pI_10_err,\n",
    "             color=\"b\", fmt='-', label=\"Messwerte mit Fehler\",capsize=3)\n",
    "\n",
    "plt.title('$U_1=5,09V\\quad U3=0,00V\\quad T=164^\\circ C$')\n",
    "plt.legend()\n",
    "plt.savefig(\"1.0.png\",dpi=300)\n",
    "plt.show()"
   ]
  },
  {
   "cell_type": "code",
   "execution_count": 9,
   "metadata": {},
   "outputs": [],
   "source": [
    "def gmw(val,err):\n",
    "    #entfernt alle NaN werte aus val und die entsprechenden err werte\n",
    "    nanind=np.argwhere(np.isnan(val))\n",
    "    val = np.delete(val, nanind)\n",
    "    err = np.delete(err, nanind)\n",
    "    wgt=1/err**2\n",
    "    m=np.dot(val,wgt)/np.sum(wgt)\n",
    "    o=np.sqrt(np.dot(wgt,err**2)/(np.sum(wgt)-1))\n",
    "    return m,o"
   ]
  },
  {
   "cell_type": "code",
   "execution_count": 18,
   "metadata": {},
   "outputs": [
    {
     "name": "stdout",
     "output_type": "stream",
     "text": [
      "8.466666666666667\n",
      "0.10016708449412669\n",
      "13.433333333333334\n",
      "0.10016708449412669\n",
      "18.43333333333333\n",
      "0.10016708449412669\n",
      "23.2\n",
      "0.10016708449412669\n",
      "28.5\n",
      "0.10016708449412669\n"
     ]
    },
    {
     "data": {
      "image/png": "[encoded data removed]",
      "text/plain": [
       "<Figure size 432x288 with 1 Axes>"
      ]
     },
     "metadata": {
      "needs_background": "light"
     },
     "output_type": "display_data"
    },
    {
     "ename": "AttributeError",
     "evalue": "'tuple' object has no attribute 'cov_beta'",
     "output_type": "error",
     "traceback": [
      "\u001b[1;31m---------------------------------------------------------------------------\u001b[0m",
      "\u001b[1;31mAttributeError\u001b[0m                            Traceback (most recent call last)",
      "\u001b[1;32m<ipython-input-18-040fcdb6ee71>\u001b[0m in \u001b[0;36m<module>\u001b[1;34m\u001b[0m\n\u001b[0;32m     12\u001b[0m \u001b[1;33m\u001b[0m\u001b[0m\n\u001b[0;32m     13\u001b[0m \u001b[0mout\u001b[0m\u001b[1;33m=\u001b[0m\u001b[0mzeichnen\u001b[0m\u001b[1;33m(\u001b[0m\u001b[0mfx_title\u001b[0m\u001b[1;33m=\u001b[0m\u001b[1;34m\"U(n)\"\u001b[0m\u001b[1;33m,\u001b[0m\u001b[0mx_title\u001b[0m\u001b[1;33m=\u001b[0m\u001b[1;34m\"n\"\u001b[0m\u001b[1;33m,\u001b[0m\u001b[0mxlabel\u001b[0m\u001b[1;33m=\u001b[0m\u001b[1;34m\"n\"\u001b[0m\u001b[1;33m,\u001b[0m\u001b[0mylabel\u001b[0m\u001b[1;33m=\u001b[0m\u001b[1;34m\"U [V]\"\u001b[0m\u001b[1;33m,\u001b[0m\u001b[0mx\u001b[0m\u001b[1;33m=\u001b[0m\u001b[0mnp\u001b[0m\u001b[1;33m.\u001b[0m\u001b[0marange\u001b[0m\u001b[1;33m(\u001b[0m\u001b[1;36m1\u001b[0m\u001b[1;33m,\u001b[0m\u001b[0mlen\u001b[0m\u001b[1;33m(\u001b[0m\u001b[0mminiavg\u001b[0m\u001b[1;33m)\u001b[0m\u001b[1;33m+\u001b[0m\u001b[1;36m1\u001b[0m\u001b[1;33m,\u001b[0m\u001b[1;36m1\u001b[0m\u001b[1;33m)\u001b[0m\u001b[1;33m,\u001b[0m\u001b[0my\u001b[0m\u001b[1;33m=\u001b[0m\u001b[0mminiavg\u001b[0m\u001b[1;33m,\u001b[0m\u001b[0my_err\u001b[0m\u001b[1;33m=\u001b[0m\u001b[0mnp\u001b[0m\u001b[1;33m.\u001b[0m\u001b[0mfull\u001b[0m\u001b[1;33m(\u001b[0m\u001b[0mlen\u001b[0m\u001b[1;33m(\u001b[0m\u001b[0mminiavg\u001b[0m\u001b[1;33m)\u001b[0m\u001b[1;33m,\u001b[0m\u001b[1;36m0.1\u001b[0m\u001b[1;33m/\u001b[0m\u001b[0mnp\u001b[0m\u001b[1;33m.\u001b[0m\u001b[0msqrt\u001b[0m\u001b[1;33m(\u001b[0m\u001b[1;36m3\u001b[0m\u001b[1;33m-\u001b[0m\u001b[1;36m1\u001b[0m\u001b[1;33m)\u001b[0m\u001b[1;33m)\u001b[0m\u001b[1;33m,\u001b[0m\u001b[0mspeichername\u001b[0m\u001b[1;33m=\u001b[0m\u001b[1;34m\"avg\"\u001b[0m\u001b[1;33m,\u001b[0m\u001b[0msave\u001b[0m\u001b[1;33m=\u001b[0m\u001b[1;32mTrue\u001b[0m\u001b[1;33m,\u001b[0m\u001b[0modr\u001b[0m\u001b[1;33m=\u001b[0m\u001b[1;32mFalse\u001b[0m\u001b[1;33m)\u001b[0m\u001b[1;33m\u001b[0m\u001b[1;33m\u001b[0m\u001b[0m\n\u001b[1;32m---> 14\u001b[1;33m \u001b[0mprint\u001b[0m\u001b[1;33m(\u001b[0m\u001b[0mout\u001b[0m\u001b[1;33m.\u001b[0m\u001b[0mcov_beta\u001b[0m\u001b[1;33m)\u001b[0m\u001b[1;33m\u001b[0m\u001b[1;33m\u001b[0m\u001b[0m\n\u001b[0m\u001b[0;32m     15\u001b[0m \u001b[0mprint\u001b[0m\u001b[1;33m(\u001b[0m\u001b[0mnp\u001b[0m\u001b[1;33m.\u001b[0m\u001b[0msqrt\u001b[0m\u001b[1;33m(\u001b[0m\u001b[0mnp\u001b[0m\u001b[1;33m.\u001b[0m\u001b[0mdiag\u001b[0m\u001b[1;33m(\u001b[0m\u001b[0mout\u001b[0m\u001b[1;33m.\u001b[0m\u001b[0mcov_beta\u001b[0m\u001b[1;33m)\u001b[0m\u001b[1;33m)\u001b[0m\u001b[1;33m)\u001b[0m\u001b[1;33m\u001b[0m\u001b[1;33m\u001b[0m\u001b[0m\n",
      "\u001b[1;31mAttributeError\u001b[0m: 'tuple' object has no attribute 'cov_beta'"
     ]
    }
   ],
   "source": [
    "%run ./odr.ipynb\n",
    "\n",
    "\n",
    "mingmw=np.array(gwm(arr,np.full(len(arr),0.1)) for arr in minimum)\n",
    "\n",
    "for i,mini in enumerate(minimum):\n",
    "    m,o=gmw(mini,np.full(len(mini),0.1))\n",
    "    print(m)\n",
    "    print(o)\n",
    "\n",
    "                      \n",
    "\n",
    "out=zeichnen(fx_title=\"U(n)\",x_title=\"n\",xlabel=\"n\",ylabel=\"U [V]\",x=np.arange(1,len(miniavg)+1,1),y=miniavg,y_err=np.full(len(miniavg),0.1/np.sqrt(3-1)),speichername=\"avg\",save=True,odr=False)\n",
    "print(out.cov_beta)\n",
    "print(np.sqrt(np.diag(out.cov_beta)))"
   ]
  },
  {
   "cell_type": "code",
   "execution_count": 14,
   "metadata": {},
   "outputs": [
    {
     "name": "stdout",
     "output_type": "stream",
     "text": [
      "[4.98333333 3.45666667]\n",
      "[[ 0.1        -0.29999999]\n",
      " [-0.29999999  1.09999996]]\n",
      "[0.31622776 1.04880883]\n"
     ]
    }
   ],
   "source": [
    "def f(x,m,b):\n",
    "    return m*x+b\n",
    "popt, pcov = curve_fit(f, xdata=np.arange(1,len(miniavg)+1,1),ydata=miniavg,absolute_sigma=True)\n",
    "print(popt)\n",
    "perr = np.sqrt(np.diag(pcov))\n",
    "print(pcov)\n",
    "print(perr)"
   ]
  },
  {
   "cell_type": "code",
   "execution_count": null,
   "metadata": {},
   "outputs": [],
   "source": [
    "%run ./arr2table_v3.2.ipynb\n",
    "head=[\"U2 [V]\",\"$I_A$ [pA]\"]\n",
    "align='c'\n",
    "val=[U2_10,pI_10]\n",
    "err=[U2_10_err,pI_10_err]\n",
    "cap=\"Messreihe 1 mit 1 V Schritte\"\n",
    "lab=\"mess1\"\n",
    "nk=[2]\n",
    "print(table(align,head,val,err,cap,lab,nk,longtable=True,copy=True))"
   ]
  },
  {
   "cell_type": "code",
   "execution_count": null,
   "metadata": {},
   "outputs": [],
   "source": [
    "import pandas as pd\n",
    "df = pd.DataFrame([x])\n",
    "df.to_clipboard(index=False,header=False)\n"
   ]
  }
 ],
 "metadata": {
  "kernelspec": {
   "display_name": "Python 3",
   "language": "python",
   "name": "python3"
  },
  "language_info": {
   "codemirror_mode": {
    "name": "ipython",
    "version": 3
   },
   "file_extension": ".py",
   "mimetype": "text/x-python",
   "name": "python",
   "nbconvert_exporter": "python",
   "pygments_lexer": "ipython3",
   "version": "3.8.5"
  }
 },
 "nbformat": 4,
 "nbformat_minor": 4
}
