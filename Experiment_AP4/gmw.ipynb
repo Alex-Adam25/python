{
 "cells": [
  {
   "cell_type": "code",
   "execution_count": null,
   "metadata": {},
   "outputs": [],
   "source": [
    "def gmw(val,err,fehler=True):\n",
    "    #entfernt alle NaN werte aus val und die entsprechenden err werte\n",
    "    nanind=np.argwhere(np.isnan(val))\n",
    "    val = np.delete(val, nanind)\n",
    "    err = np.delete(err, nanind)\n",
    "    wgt=1/err**2\n",
    "    m=np.dot(val,wgt)/np.sum(wgt)\n",
    "    o=np.sqrt(np.dot(wgt,err**2)/(np.sum(wgt)-1))\n",
    "    if fehler:\n",
    "        return m,o\n",
    "    else:\n",
    "        return m"
   ]
  }
 ],
 "metadata": {
  "kernelspec": {
   "display_name": "Python 3",
   "language": "python",
   "name": "python3"
  },
  "language_info": {
   "codemirror_mode": {
    "name": "ipython",
    "version": 3
   },
   "file_extension": ".py",
   "mimetype": "text/x-python",
   "name": "python",
   "nbconvert_exporter": "python",
   "pygments_lexer": "ipython3",
   "version": "3.8.5"
  }
 },
 "nbformat": 4,
 "nbformat_minor": 4
}
