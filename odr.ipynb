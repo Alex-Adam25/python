{
 "cells": [
  {
   "cell_type": "code",
   "execution_count": 22,
   "metadata": {},
   "outputs": [
    {
     "data": {
      "image/png": "[encoded data removed]",
      "text/plain": [
       "<Figure size 432x288 with 1 Axes>"
      ]
     },
     "metadata": {
      "needs_background": "light"
     },
     "output_type": "display_data"
    }
   ],
   "source": [
    "#https://docs.scipy.org/doc/scipy/reference/odr.html\n",
    "\n",
    "import numpy as np\n",
    "import matplotlib.pyplot as plt\n",
    "from scipy.odr import *\n",
    "import random\n",
    "\n",
    "def fit(x,y,x_err,y_err):\n",
    "    \n",
    "    def lin_func(B, x):\n",
    "        [m,b]=B\n",
    "        return m*x+b\n",
    "    \n",
    "    lin_model = Model(lin_func)\n",
    "    data = RealData(x, y, sx=x_err, sy=y_err)\n",
    "    odr = ODR(data, lin_model, beta0=[1., 0.])\n",
    "    out = odr.run()\n",
    "    return out\n",
    "\n",
    "def zeichnen (x, y, x_err,y_err ,label, speichername, xlabel, ylabel, save=False):\n",
    "\n",
    "    plt.plot(x, y, \"ok\", label=label)\n",
    "    plt.errorbar(x, y, xerr=x_err, yerr=y_err, color=\"b\", fmt='.', label=\"Fehler\",capsize=5)\n",
    "    \n",
    "    out = fit(x,y,x_err,y_err)\n",
    "    plt.plot(x, (out.beta[0]*x+out.beta[1]), color=\"k\")\n",
    "    #Rest des Plots, also z.B. Achsen usw. \n",
    "    plt.xlabel(xlabel)\n",
    "    plt.ylabel(ylabel)\n",
    "    plt.title((\"$f(x)$ = ({:.4f}$\\pm${:.4f}) * $x$ + ({:.4f}$\\pm${:.4f})\".format(out.beta[0],out.sd_beta[0],out.beta[1],out.sd_beta[1])))\n",
    "    \n",
    "    plt.grid()\n",
    "    plt.legend()\n",
    "    \n",
    "    if bool(save) == True:\n",
    "        plt.savefig(speichername)\n",
    "    \n",
    "    plt.show()\n",
    "    \n",
    "    return out\n",
    "\n",
    "x = np.array([0, 1, 2, 3, 4, ])\n",
    "y = np.array([i+3 + random.random() -0.5 for i in x])\n",
    "\n",
    "\n",
    "x_err = np.array([random.random() for i in x])\n",
    "y_err = np.array([random.random() for i in x])\n",
    "\n",
    "out=zeichnen (x=x, y=y, x_err=x_err,y_err=y_err, label=\"$x(y)$\", speichername=\"Plot_x(y)\", xlabel=\"$x$\", ylabel=\"$y$\", save=False)\n"
   ]
  }
 ],
 "metadata": {
  "kernelspec": {
   "display_name": "Python 3",
   "language": "python",
   "name": "python3"
  },
  "language_info": {
   "codemirror_mode": {
    "name": "ipython",
    "version": 3
   },
   "file_extension": ".py",
   "mimetype": "text/x-python",
   "name": "python",
   "nbconvert_exporter": "python",
   "pygments_lexer": "ipython3",
   "version": "3.7.7"
  }
 },
 "nbformat": 4,
 "nbformat_minor": 4
}
