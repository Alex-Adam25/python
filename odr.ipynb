{
 "cells": [
  {
   "cell_type": "code",
   "execution_count": 58,
   "metadata": {},
   "outputs": [
    {
     "name": "stdout",
     "output_type": "stream",
     "text": [
      "Beta: [1.02880023 2.87703638]\n",
      "Beta Std Error: [0.07798391 0.2286011 ]\n",
      "Beta Covariance: [[ 0.06250511 -0.15781297]\n",
      " [-0.15781297  0.53710867]]\n",
      "Residual Variance: 0.09729588510261855\n",
      "Inverse Condition #: 0.01711697716975434\n",
      "Reason(s) for Halting:\n",
      "  Sum of squares convergence\n"
     ]
    },
    {
     "data": {
      "text/plain": [
       "[<matplotlib.lines.Line2D at 0x2abab7dff88>]"
      ]
     },
     "execution_count": 58,
     "metadata": {},
     "output_type": "execute_result"
    },
    {
     "data": {
      "image/png": "[encoded data removed]",
      "text/plain": [
       "<Figure size 432x288 with 1 Axes>"
      ]
     },
     "metadata": {
      "needs_background": "light"
     },
     "output_type": "display_data"
    }
   ],
   "source": [
    "#https://docs.scipy.org/doc/scipy/reference/odr.html\n",
    "\n",
    "import numpy as np\n",
    "import matplotlib.pyplot as plt\n",
    "from scipy.odr import *\n",
    "import random\n",
    "\n",
    "x = np.array([0, 1, 2, 3, 4, ])\n",
    "y = np.array([i+3 + random.random() -0.5 for i in x])\n",
    "\n",
    "\n",
    "x_err = np.array([random.random() for i in x])\n",
    "y_err = np.array([random.random() for i in x])\n",
    "\n",
    "\n",
    "\n",
    "def lin_func(B, x):\n",
    "    [m,b]=B\n",
    "    return m*x+b\n",
    "lin_model = Model(lin_func)\n",
    "data = RealData(x, y, sx=x_err, sy=y_err)\n",
    "odr = ODR(data, lin_model, beta0=[1., 0.])\n",
    "out = odr.run()\n",
    "out.pprint()\n",
    "\n",
    "x_fit = np.linspace(x[0], x[-1], 1000)\n",
    "y_fit = lin_func(out.beta, x_fit)\n",
    "\n",
    "plt.errorbar(x, y, xerr=x_err, yerr=y_err, linestyle='None', marker='x')\n",
    "plt.plot(x_fit, y_fit)\n"
   ]
  }
 ],
 "metadata": {
  "kernelspec": {
   "display_name": "Python 3",
   "language": "python",
   "name": "python3"
  },
  "language_info": {
   "codemirror_mode": {
    "name": "ipython",
    "version": 3
   },
   "file_extension": ".py",
   "mimetype": "text/x-python",
   "name": "python",
   "nbconvert_exporter": "python",
   "pygments_lexer": "ipython3",
   "version": "3.7.7"
  }
 },
 "nbformat": 4,
 "nbformat_minor": 4
}
