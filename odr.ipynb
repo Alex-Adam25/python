{
 "cells": [
  {
   "cell_type": "code",
   "execution_count": 83,
   "metadata": {},
   "outputs": [
    {
     "data": {
      "image/png": "[encoded data removed]",
      "text/plain": [
       "<Figure size 432x288 with 1 Axes>"
      ]
     },
     "metadata": {
      "needs_background": "light"
     },
     "output_type": "display_data"
    }
   ],
   "source": [
    "#https://docs.scipy.org/doc/scipy/reference/odr.html\n",
    "\n",
    "#Benotigte Madule(inkl. in Anaconda)\n",
    "import numpy as np\n",
    "import matplotlib.pyplot as plt\n",
    "from scipy.odr import *\n",
    "import random\n",
    "\n",
    "#MUSS NICHT ANGEPASST WERDEN\n",
    "#Funktion welche den Fit durchführt \n",
    "def fit(x,y,x_err,y_err):\n",
    "    #definerit die zu fittene Funktion,in B sind die Parameter und x ist die unabhängige\n",
    "    def lin_func(B, x):\n",
    "        [m,b]=B\n",
    "        return m*x+b\n",
    "    lin_model = Model(lin_func)\n",
    "\n",
    "    #Überprüft welche Fehler angegeben wurden\n",
    "    if (np.isnan(x_err).any() and np.isnan(y_err).any()):\n",
    "        data = RealData(x, y)\n",
    "    elif np.isnan(x_err).any():\n",
    "        data = RealData(x, y, sy=y_err)\n",
    "    elif np.isnan(y_err).any():\n",
    "        data = RealData(x, y, sx=x_err)\n",
    "    else:\n",
    "        data = RealData(x, y, sx=x_err, sy=y_err)\n",
    "    \n",
    "    #Führt den Fit aus, beta0 sind die Startwerte\n",
    "    odr = ODR(data, lin_model, beta0=[1., 0.])\n",
    "    out = odr.run()\n",
    "    #out.beta beinhaltet die Parameter\n",
    "    #out.sd_beta beinhaltet die Fehler der Parameter\n",
    "    return out\n",
    "\n",
    "#Muss nicth angepasst werden es sei denn die Ploteigenschaften sollen geädert werden\n",
    "def zeichnen (x, y,label, speichername, xlabel, ylabel,fx_title,x_title, save=False,x_err=np.nan,y_err=np.nan ):\n",
    "    #Fir erzeeugen\n",
    "    out = fit(x,y,x_err,y_err)\n",
    "    \n",
    "    #Überprüft welche Fehler angegeben wurden\n",
    "    if np.isnan(x_err).any():\n",
    "        x_err=np.zeros_like(x)\n",
    "    if np.isnan(y_err).any():\n",
    "        y_err=np.zeros_like(x)\n",
    "    \n",
    "    #Plottet die Punkte und ihre Fehler\n",
    "    plt.plot(x, y, \"ok\", label=label)\n",
    "    plt.errorbar(x, y, xerr=x_err, yerr=y_err, color=\"b\", fmt='.', label=\"Fehler\",capsize=5)\n",
    "    \n",
    "    #Plottet den Linearen Fit\n",
    "    plt.plot(x, (out.beta[0]*x+out.beta[1]), color=\"k\")\n",
    "    \n",
    "    #x,y label\n",
    "    plt.xlabel(xlabel)\n",
    "    plt.ylabel(ylabel)\n",
    "    #Legt den Titel fest, f(x) und x durch die jeweiligen Variabeln Austauschen\n",
    "    plt.title((fx_title+\" = ({:.4f}$\\pm${:.4f})\".format(out.beta[0],out.sd_beta[0])\n",
    "               +\" $\\cdot$ \"+x_title+\" + ({:.4f}$\\pm${:.4f})\".format(out.beta[1],out.sd_beta[1])))\n",
    "    \n",
    "    #sonstiges\n",
    "    plt.grid()\n",
    "    plt.legend()\n",
    "    \n",
    "    #eventuelles Speichern\n",
    "    if bool(save) == True:\n",
    "        plt.savefig(speichername)\n",
    "    \n",
    "    #Darstellen der Plottes\n",
    "    plt.show()\n",
    "    \n",
    "    #weitergeben der fit Eigenschaften\n",
    "    return out\n",
    "\n",
    "#Beispielwerte für x,y und ihre Fehler, ersetzen in form von ... = np.array([0, 1, 2, 3, 4, 5])\n",
    "x = np.array([0, 1, 2, 3, 4, 5])\n",
    "y = np.array([i+3 + random.random() -0.5 for i in x])\n",
    "\n",
    "x_err = np.array([random.random() for i in x])\n",
    "y_err = np.array([random.random() for i in x])\n",
    "\n",
    "\n",
    "out=zeichnen (x=x, y=y, x_err=x_err,y_err=y_err, \n",
    "              label=\"$x(y)$\", #name der Punkte in der Legende\n",
    "              speichername=\"Plot_x(y)\", \n",
    "              xlabel=\"$x$\", \n",
    "              ylabel=\"$y$\", \n",
    "              fx_title=\"$f(x)$\", #f(x) in dem titel\n",
    "              x_title=\"$x$\", #x in dem titel\n",
    "              save=False) #speichert den Plot mit speichernamen ab"
   ]
  }
 ],
 "metadata": {
  "kernelspec": {
   "display_name": "Python 3",
   "language": "python",
   "name": "python3"
  },
  "language_info": {
   "codemirror_mode": {
    "name": "ipython",
    "version": 3
   },
   "file_extension": ".py",
   "mimetype": "text/x-python",
   "name": "python",
   "nbconvert_exporter": "python",
   "pygments_lexer": "ipython3",
   "version": "3.7.7"
  }
 },
 "nbformat": 4,
 "nbformat_minor": 4
}
