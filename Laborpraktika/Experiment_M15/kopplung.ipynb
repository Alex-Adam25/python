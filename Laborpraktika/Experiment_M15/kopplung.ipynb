{
 "cells": [
  {
   "cell_type": "code",
   "execution_count": 1,
   "metadata": {},
   "outputs": [
    {
     "name": "stdout",
     "output_type": "stream",
     "text": [
      "0.23575129533678754\n",
      "0.006041450777202084\n"
     ]
    },
    {
     "data": {
      "image/png": "[encoded data removed]",
      "text/plain": [
       "<Figure size 432x288 with 1 Axes>"
      ]
     },
     "metadata": {
      "needs_background": "light"
     },
     "output_type": "display_data"
    }
   ],
   "source": [
    "from scipy import stats\n",
    "\n",
    "import math\n",
    "\n",
    "import numpy as np\n",
    "\n",
    "from matplotlib import pyplot as plt\n",
    "\n",
    "def line (x, m, d):\n",
    "\n",
    "    return m*x+d\n",
    "\n",
    "def f(x):\n",
    "\n",
    "    return x**2\n",
    "\n",
    " \n",
    "\n",
    " \n",
    "\n",
    "kp = np.array([0.026, 0.046, 0.064])\n",
    "\n",
    "k1 = np.array([0.004, 0.009, 0.031])\n",
    "\n",
    "x = np.arange(0, 0.1, 0.001)\n",
    "\n",
    "err = np.array([0.001, 0.001, 0.001])\n",
    "\n",
    "z = np.array ([0.3, 0.4, 0.5])\n",
    "\n",
    "zquad=np.array([f(xi) for xi in z])\n",
    "\n",
    "regP = stats.linregress(zquad, kp)\n",
    "\n",
    "reg1 = stats.linregress(zquad, k1)\n",
    "\n",
    "plt.plot(zquad, kp, \"ok\", label=\"$\\kappa_{+,-}$\")\n",
    "\n",
    "plt.plot(zquad, k1, \"ob\", label=\"$\\kappa_{1,2}$\")\n",
    "\n",
    "plt.plot(zquad, line(zquad, regP[0], regP[1]), color=\"k\")\n",
    "\n",
    "plt.plot(x, line(x, regP[0], regP[1]), \"--k\")\n",
    "\n",
    "plt.plot(zquad, line(zquad, reg1[0], reg1[1]), color=\"b\")\n",
    "\n",
    "plt.plot(x, line(x, reg1[0], reg1[1]), \"--b\")\n",
    "\n",
    "plt.plot(0, reg1[1], \"xb\")\n",
    "\n",
    "plt.plot(0, regP[1], \"xk\")\n",
    "\n",
    "plt.errorbar(zquad, k1 , yerr=err, color=\"b\", fmt='.')\n",
    "\n",
    "plt.xlabel(\"$z^2/m^2$\")\n",
    "\n",
    "plt.ylabel(\"$\\kappa$\")\n",
    "\n",
    "print(regP[0])\n",
    "print(regP[1])\n",
    "\n",
    "\n",
    "\n",
    "plt.legend()\n",
    "\n",
    "plt.savefig(\"kopplung.png\")\n",
    "\n",
    "plt.show()"
   ]
  },
  {
   "cell_type": "code",
   "execution_count": null,
   "metadata": {},
   "outputs": [],
   "source": []
  },
  {
   "cell_type": "code",
   "execution_count": null,
   "metadata": {},
   "outputs": [],
   "source": [
    "kap=np.array([2.546288487,"
   ]
  }
 ],
 "metadata": {
  "kernelspec": {
   "display_name": "Python 3",
   "language": "python",
   "name": "python3"
  },
  "language_info": {
   "codemirror_mode": {
    "name": "ipython",
    "version": 3
   },
   "file_extension": ".py",
   "mimetype": "text/x-python",
   "name": "python",
   "nbconvert_exporter": "python",
   "pygments_lexer": "ipython3",
   "version": "3.7.6"
  }
 },
 "nbformat": 4,
 "nbformat_minor": 2
}
