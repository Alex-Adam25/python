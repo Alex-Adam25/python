{
 "cells": [
  {
   "cell_type": "code",
   "execution_count": 190,
   "metadata": {},
   "outputs": [
    {
     "name": "stdout",
     "output_type": "stream",
     "text": [
      "Spannung längenanpassung\n",
      "16\n",
      "60\n",
      "mu1/sigma1/mu2/sigma2/mu3/sigma3:\n",
      "[7.7240528  0.53843021]\n",
      "Fehler:\n",
      "[0.14774744 0.12396392]\n"
     ]
    },
    {
     "data": {
      "text/plain": [
       "Text(0.5, 0, '10^19')"
      ]
     },
     "execution_count": 190,
     "metadata": {},
     "output_type": "execute_result"
    },
    {
     "data": {
      "image/png": "[encoded data removed]",
      "text/plain": [
       "<Figure size 432x288 with 1 Axes>"
      ]
     },
     "metadata": {
      "needs_background": "light"
     },
     "output_type": "display_data"
    }
   ],
   "source": [
    "#Benotigte Madule(inkl. in Anaconda)\n",
    "import numpy as np\n",
    "import matplotlib.pyplot as plt\n",
    "from scipy.odr import *\n",
    "import random\n",
    "from scipy.stats import norm\n",
    "\n",
    "import sys\n",
    "\n",
    "#1. U;t1;t2;x ersetzen und ihre fehler\n",
    "#2. anzahl an gaußfunktionen wählen\n",
    "#3. Startwerte beta0 richtig wählen(vorallem die müs)\n",
    "#4. stepsize bzw binnabstand fürs histogram\n",
    "\n",
    "\n",
    "def gau(B,x):\n",
    "    [m,o]=B\n",
    "    return (1/np.sqrt(2*np.pi*o**2))*np.exp(-(x-m)**2/(o**2)*2)\n",
    "\n",
    "def func(B, x):\n",
    "    [m1,o1,m2,o2,m3,o3,m4,o4]=B\n",
    "    return gau(x,m1,o1)+gau(x,m2,o2)+gau(x,m3,o3)+gau(x,m4,o4)\n",
    "    \n",
    "def fit(x,y,x_err,y_err,beta):\n",
    "    #definerit die zu fittene Funktion,in B sind die Parameter und x ist die unabhängige\n",
    "    model = Model(gau)\n",
    "    beta0=beta\n",
    "    #Überprüft welche Fehler angegeben wurden\n",
    "    if (np.isnan(x_err).any() and np.isnan(y_err).any()):\n",
    "        data = RealData(x, y)\n",
    "    elif np.isnan(x_err).any():\n",
    "        data = RealData(x, y, sy=y_err)\n",
    "    elif np.isnan(y_err).any():\n",
    "        data = RealData(x, y, sx=x_err)\n",
    "    else:\n",
    "        data = RealData(x, y, sx=x_err, sy=y_err)\n",
    "    \n",
    "    #Führt den Fit aus, beta0 sind die Startwerte\n",
    "    odr = ODR(data, model, beta0)\n",
    "    out = odr.run()\n",
    "    #out.beta beinhaltet die Parameter\n",
    "    #out.sd_beta beinhaltet die Fehler der Parameter\n",
    "    return out\n",
    "\n",
    "#Spannung\n",
    "U=np.array([496,494,493,493,493,492,491,491,495,497,497,497,497,497,497,496])\n",
    "\n",
    "U_fehler=1\n",
    "U_err=np.full(len(U),U_fehler)\n",
    "\n",
    "#Zeit:\n",
    "t2=np.array([3.59,2.68,5.74,4.17,2.38,3.57,3.53,7.72,3.12,2.09,1.49,2.03,2.03,1.2,1.28,2.12,\n",
    "            1.90,7.20,7.62,2.77,1.84,2.12,2.08,1.89,3.59,3.89,4.14,5.39,41.69,3.92,2.93,1.83,6.64,1.63,2.29,9.37,3.05,7.76,6.92,4.03,7.44,\n",
    "            3.23,4.21,2.11,9.00,6.51,2.86,3.24,2.26,8.73,7.32,3.44,4.38,8.75,5.60,4.03,3.78,2.35,4.75,3.02])\n",
    "t1=np.array([22.16,22.05,5.24,32.58,24.69,32.95,33.94,14.92,34.78,83.15,27.44,54.09,50.33,7.29,25.89,36.08,\n",
    "            9.33,28.60,27.48,46.90,17.89,26.28,26.36,21.60,9.70,14.43,14.80,22.48,13.70,28.81,16.22,21.24,28.76,17.86,59.12,23.59,11.14,13.41,10.20,25.01,3.30,\n",
    "            8.08,30.05,9.08,25.23,39.53,16.67,16.89,29.22,26.89,31.92,27.61,11.26,16.86,3.95,4.58,5.23,26.39,55.28,14.13])\n",
    "\n",
    "\n",
    "t_fehler=0.1\n",
    "t_err=np.full(len(t1),t_fehler)\n",
    "t1_err=t2_err=t_err\n",
    "\n",
    "if len(U)!=len(t1):\n",
    "    print(\"Spannung längenanpassung\")\n",
    "    print(len(U))\n",
    "    print(len(t1))\n",
    "    U=np.full(len(t1),495)\n",
    "    U_err=np.full(len(U),U_fehler)\n",
    "\n",
    "\n",
    "#Strecke; x ist gemessen durchs Mikroskop; s ist umgerechnet in den Realen wert\n",
    "x=np.array([1,1])\n",
    "x=np.full(len(t1),2)\n",
    "\n",
    "x_fehler=0.1\n",
    "x_err=np.full(len(x),x_fehler)\n",
    "\n",
    "#Position\n",
    "z=1.875 #zoom\n",
    "\n",
    "z_err=1.875*0.01\n",
    "s=x/z*10**(-3)\n",
    "s_err=np.sqrt((1/z*10**(-4)*x_err)**2+\n",
    "              (x*10**(-4)*z_err/z**2)**2)\n",
    "\n",
    "#Geschwindigkeit\n",
    "v1=s/t1\n",
    "v1_err=np.sqrt((s_err/t1)**2+(s*t1_err/t1**2)**2)\n",
    "v2=s/t2\n",
    "v2_err=np.sqrt((s_err/t2)**2+(s*t2_err/t2**2)**2)\n",
    "\n",
    "\n",
    "eta=1.81*10**(-5)\n",
    "d=6*10**(-3)\n",
    "poel=875.3\n",
    "pl=1.29\n",
    "p=874\n",
    "p_err=0\n",
    "g=9.81\n",
    "\n",
    "Q=(v1+v2)*np.sqrt(v1)/U*eta**(3/2)*18*np.pi*d/np.sqrt(2*p*g)\n",
    "q=Q\n",
    "Q=Q*10**19\n",
    "#Als BSP\n",
    "#Q=np.array([1,2,2,2,3,3,3,3,3,4,6,6,6,6,6,8,9,9,9,9,10]);\n",
    "\n",
    "\n",
    "Q_err=9*np.pi*d*eta**(3/2)/np.sqrt(g*p)*np.sqrt(((3*v1+v2)/(U*np.sqrt(2*v1))*v1_err)**2+\n",
    "                                                (np.sqrt(2*v1)/U*v2_err)**2+\n",
    "                                                (np.sqrt(2*v1)*(v1+v2)/U**2*U_err)**2)\n",
    "#Als BSP:\n",
    "#Q_err=np.nan\n",
    "Q = Q[Q < 20]\n",
    "\n",
    "\n",
    "\n",
    "\n",
    "#Anpassen für schönnes Histogramm\n",
    "stepsize=0.5\n",
    "\n",
    "#Histogramm erstellen\n",
    "bins=np.arange(min(Q)-stepsize/2,max(Q)+stepsize/1.5,stepsize)\n",
    "[n,binsh,ka]=plt.hist(Q,bins=bins,density=False,edgecolor='black', linewidth=1.2)\n",
    "plt.title(stepsize)\n",
    "\n",
    "#Fit erstellen\n",
    "xf=bins+stepsize/2\n",
    "xf=xf[:-1]\n",
    "yf=n\n",
    "\n",
    "#Fit-Funktionswerte Berechnen\n",
    "\n",
    "\n",
    "#Plotten\n",
    "\n",
    "plt.grid()\n",
    "plt\n",
    "#Für die Korektur:\n",
    "#welches eta? \n",
    "r=np.sqrt(9*eta*v1/(2*p*g))\n",
    "#r_err überprüfen\n",
    "r_err=1/(2*np.sqrt(9*eta*v1/(2*p*g)))*9*eta/(2*p*g)*v1_err\n",
    "#xk=1/(p*r)\n",
    "#yk=Q**(2/3)\n",
    "\n",
    "#xk_err=np.sqrt((r_err/(r**2*p))**2+(p_err/(p**2*r))**2)\n",
    "#yk_err=2/(3*Q**(1/3))*Q_err\n",
    "\n",
    "\n",
    "\n",
    "#def func(B, x):\n",
    "#    [b,y0]=B\n",
    "#    return y0*(1+b*x)\n",
    "\n",
    "#out=fit(xk,yk,np.nan,yk_err)\n",
    "\n",
    "\n",
    "bin1=bins[(bins>0)&(bins<5.2)]\n",
    "n1=np.histogram(Q,bin1,density=True)\n",
    "y1=n1[0]\n",
    "x1=n1[1][0:-1]+stepsize/2\n",
    "\n",
    "out=fit(x1,y1,np.nan,np.nan,beta=[4.,2.])\n",
    "x_p=np.linspace(0,20,1000)\n",
    "y_p=gau(out.beta,x_p)*4\n",
    "plt.plot(x_p,y_p,'r')\n",
    "\n",
    "\n",
    "\n",
    "\n",
    "bin2=bins[(bins>5)&(bins<9)]\n",
    "n2=np.histogram(Q,bin2,density=True)\n",
    "y2=n2[0]\n",
    "x2=n2[1][0:-1]+stepsize/2\n",
    "\n",
    "out=fit(x2,y2,np.nan,np.nan,beta=[8.,2.])\n",
    "x_p=np.linspace(0,20,1000)\n",
    "y_p=gau(out.beta,x_p)*4\n",
    "plt.plot(x_p,y_p,'r')\n",
    "\n",
    "\n",
    "\n",
    "\n",
    "\n",
    "print(\"mu1/sigma1/mu2/sigma2/mu3/sigma3:\")\n",
    "print(out.beta)\n",
    "print(\"Fehler:\")\n",
    "print(out.sd_beta)\n",
    "plt.xlabel(\"10^19\")\n"
   ]
  },
  {
   "cell_type": "code",
   "execution_count": 151,
   "metadata": {},
   "outputs": [],
   "source": [
    "\n",
    "bin1=bins[(bins>0)&(bins<5.2)]\n",
    "n1=np.histogram(Q,bin1)\n",
    "y=n1[0]\n",
    "x=n1[1][0:-1]+stepsize/2\n",
    "\n",
    "out=fit(x,y,np.nan,np.nan,beta=[4.,1.])"
   ]
  },
  {
   "cell_type": "code",
   "execution_count": 175,
   "metadata": {},
   "outputs": [
    {
     "data": {
      "text/plain": [
       "array([3.67911005, 4.07911005, 4.47911005, 4.87911005])"
      ]
     },
     "execution_count": 175,
     "metadata": {},
     "output_type": "execute_result"
    }
   ],
   "source": [
    "x2"
   ]
  },
  {
   "cell_type": "code",
   "execution_count": 168,
   "metadata": {},
   "outputs": [
    {
     "data": {
      "text/plain": [
       "array([ 3.47911005,  3.87911005,  4.27911005,  4.67911005,  5.07911005,\n",
       "        5.47911005,  5.87911005,  6.27911005,  6.67911005,  7.07911005,\n",
       "        7.47911005,  7.87911005,  8.27911005,  8.67911005,  9.07911005,\n",
       "        9.47911005,  9.87911005, 10.27911005, 10.67911005, 11.07911005,\n",
       "       11.47911005, 11.87911005, 12.27911005, 12.67911005, 13.07911005,\n",
       "       13.47911005, 13.87911005, 14.27911005, 14.67911005, 15.07911005,\n",
       "       15.47911005, 15.87911005, 16.27911005, 16.67911005, 17.07911005,\n",
       "       17.47911005, 17.87911005, 18.27911005, 18.67911005, 19.07911005,\n",
       "       19.47911005, 19.87911005])"
      ]
     },
     "execution_count": 168,
     "metadata": {},
     "output_type": "execute_result"
    }
   ],
   "source": [
    "bins"
   ]
  },
  {
   "cell_type": "code",
   "execution_count": 52,
   "metadata": {},
   "outputs": [
    {
     "data": {
      "text/plain": [
       "41"
      ]
     },
     "execution_count": 52,
     "metadata": {},
     "output_type": "execute_result"
    }
   ],
   "source": [
    "len(t2)"
   ]
  },
  {
   "cell_type": "code",
   "execution_count": 50,
   "metadata": {},
   "outputs": [
    {
     "data": {
      "text/plain": [
       "20"
      ]
     },
     "execution_count": 50,
     "metadata": {},
     "output_type": "execute_result"
    }
   ],
   "source": []
  }
 ],
 "metadata": {
  "kernelspec": {
   "display_name": "Python 3",
   "language": "python",
   "name": "python3"
  },
  "language_info": {
   "codemirror_mode": {
    "name": "ipython",
    "version": 3
   },
   "file_extension": ".py",
   "mimetype": "text/x-python",
   "name": "python",
   "nbconvert_exporter": "python",
   "pygments_lexer": "ipython3",
   "version": "3.8.3"
  }
 },
 "nbformat": 4,
 "nbformat_minor": 4
}
