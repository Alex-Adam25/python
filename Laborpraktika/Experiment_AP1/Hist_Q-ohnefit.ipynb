{
 "cells": [
  {
   "cell_type": "code",
   "execution_count": 1,
   "metadata": {
    "scrolled": false
   },
   "outputs": [
    {
     "ename": "NameError",
     "evalue": "name 'q_err' is not defined",
     "output_type": "error",
     "traceback": [
      "\u001b[1;31m---------------------------------------------------------------------------\u001b[0m",
      "\u001b[1;31mNameError\u001b[0m                                 Traceback (most recent call last)",
      "\u001b[1;32m<ipython-input-1-9f51eb9b9c26>\u001b[0m in \u001b[0;36m<module>\u001b[1;34m\u001b[0m\n\u001b[0;32m     87\u001b[0m \u001b[0mQk_err\u001b[0m\u001b[1;33m=\u001b[0m\u001b[0mnp\u001b[0m\u001b[1;33m.\u001b[0m\u001b[0msqrt\u001b[0m\u001b[1;33m(\u001b[0m\u001b[1;33m(\u001b[0m\u001b[0mQ_err\u001b[0m\u001b[1;33m/\u001b[0m\u001b[1;33m(\u001b[0m\u001b[1;36m1\u001b[0m\u001b[1;33m+\u001b[0m\u001b[0mb\u001b[0m\u001b[1;33m/\u001b[0m\u001b[1;33m(\u001b[0m\u001b[0mr\u001b[0m\u001b[1;33m*\u001b[0m\u001b[0mp\u001b[0m\u001b[1;33m)\u001b[0m\u001b[1;33m)\u001b[0m\u001b[1;33m**\u001b[0m\u001b[1;33m(\u001b[0m\u001b[1;36m3\u001b[0m\u001b[1;33m/\u001b[0m\u001b[1;36m2\u001b[0m\u001b[1;33m)\u001b[0m\u001b[1;33m)\u001b[0m\u001b[1;33m**\u001b[0m\u001b[1;36m2\u001b[0m\u001b[1;33m+\u001b[0m\u001b[1;33m(\u001b[0m\u001b[1;33m(\u001b[0m\u001b[1;36m3\u001b[0m\u001b[1;33m*\u001b[0m\u001b[0mb\u001b[0m\u001b[1;33m*\u001b[0m\u001b[0mq\u001b[0m\u001b[1;33m)\u001b[0m\u001b[1;33m/\u001b[0m\u001b[1;33m(\u001b[0m\u001b[1;36m1\u001b[0m\u001b[1;33m+\u001b[0m\u001b[0mb\u001b[0m\u001b[1;33m/\u001b[0m\u001b[1;33m(\u001b[0m\u001b[0mr\u001b[0m\u001b[1;33m*\u001b[0m\u001b[0mp\u001b[0m\u001b[1;33m)\u001b[0m\u001b[1;33m)\u001b[0m\u001b[1;33m**\u001b[0m\u001b[1;33m(\u001b[0m\u001b[1;36m5\u001b[0m\u001b[1;33m/\u001b[0m\u001b[1;36m2\u001b[0m\u001b[1;33m)\u001b[0m\u001b[1;33m*\u001b[0m\u001b[1;36m2\u001b[0m\u001b[1;33m*\u001b[0m\u001b[0mp\u001b[0m\u001b[1;33m*\u001b[0m\u001b[0mr\u001b[0m\u001b[1;33m**\u001b[0m\u001b[1;36m2\u001b[0m\u001b[1;33m)\u001b[0m\u001b[1;33m**\u001b[0m\u001b[1;36m2\u001b[0m\u001b[1;33m)\u001b[0m\u001b[1;33m\u001b[0m\u001b[1;33m\u001b[0m\u001b[0m\n\u001b[0;32m     88\u001b[0m \u001b[1;33m\u001b[0m\u001b[0m\n\u001b[1;32m---> 89\u001b[1;33m \u001b[0mqk_err\u001b[0m\u001b[1;33m=\u001b[0m\u001b[0mnp\u001b[0m\u001b[1;33m.\u001b[0m\u001b[0msqrt\u001b[0m\u001b[1;33m(\u001b[0m\u001b[1;33m(\u001b[0m\u001b[0mq_err\u001b[0m\u001b[1;33m/\u001b[0m\u001b[1;33m(\u001b[0m\u001b[1;36m1\u001b[0m\u001b[1;33m+\u001b[0m\u001b[0mb\u001b[0m\u001b[1;33m/\u001b[0m\u001b[1;33m(\u001b[0m\u001b[0mr\u001b[0m\u001b[1;33m*\u001b[0m\u001b[0mp\u001b[0m\u001b[1;33m)\u001b[0m\u001b[1;33m)\u001b[0m\u001b[1;33m**\u001b[0m\u001b[1;33m(\u001b[0m\u001b[1;36m3\u001b[0m\u001b[1;33m/\u001b[0m\u001b[1;36m2\u001b[0m\u001b[1;33m)\u001b[0m\u001b[1;33m)\u001b[0m\u001b[1;33m**\u001b[0m\u001b[1;36m2\u001b[0m\u001b[1;33m+\u001b[0m\u001b[1;33m(\u001b[0m\u001b[1;33m(\u001b[0m\u001b[1;36m3\u001b[0m\u001b[1;33m*\u001b[0m\u001b[0mb\u001b[0m\u001b[1;33m*\u001b[0m\u001b[0mq\u001b[0m\u001b[1;33m)\u001b[0m\u001b[1;33m/\u001b[0m\u001b[1;33m(\u001b[0m\u001b[1;36m1\u001b[0m\u001b[1;33m+\u001b[0m\u001b[0mb\u001b[0m\u001b[1;33m/\u001b[0m\u001b[1;33m(\u001b[0m\u001b[0mr\u001b[0m\u001b[1;33m*\u001b[0m\u001b[0mp\u001b[0m\u001b[1;33m)\u001b[0m\u001b[1;33m)\u001b[0m\u001b[1;33m**\u001b[0m\u001b[1;33m(\u001b[0m\u001b[1;36m5\u001b[0m\u001b[1;33m/\u001b[0m\u001b[1;36m2\u001b[0m\u001b[1;33m)\u001b[0m\u001b[1;33m*\u001b[0m\u001b[1;36m2\u001b[0m\u001b[1;33m*\u001b[0m\u001b[0mp\u001b[0m\u001b[1;33m*\u001b[0m\u001b[0mr\u001b[0m\u001b[1;33m**\u001b[0m\u001b[1;36m2\u001b[0m\u001b[1;33m)\u001b[0m\u001b[1;33m**\u001b[0m\u001b[1;36m2\u001b[0m\u001b[1;33m)\u001b[0m\u001b[1;33m\u001b[0m\u001b[1;33m\u001b[0m\u001b[0m\n\u001b[0m\u001b[0;32m     90\u001b[0m \u001b[1;33m\u001b[0m\u001b[0m\n\u001b[0;32m     91\u001b[0m \u001b[0mprint\u001b[0m\u001b[1;33m(\u001b[0m\u001b[0mQk_err\u001b[0m\u001b[1;33m-\u001b[0m\u001b[1;33m(\u001b[0m\u001b[0mqk_err\u001b[0m\u001b[1;33m*\u001b[0m\u001b[1;36m10\u001b[0m\u001b[1;33m**\u001b[0m\u001b[1;33m(\u001b[0m\u001b[1;36m19\u001b[0m\u001b[1;33m)\u001b[0m\u001b[1;33m)\u001b[0m\u001b[1;33m)\u001b[0m\u001b[1;33m\u001b[0m\u001b[1;33m\u001b[0m\u001b[0m\n",
      "\u001b[1;31mNameError\u001b[0m: name 'q_err' is not defined"
     ]
    }
   ],
   "source": [
    "#Benotigte Madule(inkl. in Anaconda)\n",
    "import numpy as np\n",
    "import matplotlib.pyplot as plt\n",
    "from scipy.stats import norm\n",
    "from scipy.odr import *\n",
    "from scipy import stats\n",
    "\n",
    "\n",
    "#%run odr.ipynb\n",
    "\n",
    "import sys\n",
    "\n",
    "#1. U;t1;t2;x ersetzen und ihre fehler\n",
    "#2. anzahl an gaußfunktionen wählen\n",
    "#3. Startwerte beta0 richtig wählen(vorallem die müs)\n",
    "#4. stepsize bzw binnabstand fürs histogram\n",
    "\n",
    "U=np.array([496,494,493,493,493,492,491,491,495,497,497,497,497,497,497,496,496,496,496,496,496,497,497,497,496,497,497\n",
    "           ,497,497,497,498,498,498,498,498,498,498,499,499,499,499,499,499,498,498,498,498,498,498,498,498,499,499,499\n",
    "           ,499,499,499,499,499,499])\n",
    "\n",
    "U_fehler=1\n",
    "U_err=np.full(len(U),U_fehler)\n",
    "#Zeit:\n",
    "t2=np.array([3.59,2.68,5.74,4.17,2.38,3.57,3.53,7.72,3.12,2.09,1.49,2.03,2.03,1.2,1.28,2.12,\n",
    "            1.90,7.20,7.62,2.77,1.84,2.12,2.08,1.89,3.59,3.89,4.14,5.39,41.69,3.92,2.93,1.83,6.64,1.63,2.29,9.37,3.05,7.76,6.92,4.03,7.44,\n",
    "            3.23,4.21,2.11,9.00,6.51,2.86,3.24,2.26,8.73,7.32,3.44,4.38,8.75,5.60,4.03,3.78,2.35,4.75,3.02])\n",
    "t1=np.array([22.16,22.05,5.24,32.58,24.69,32.95,33.94,14.92,34.78,83.15,27.44,54.09,50.33,7.29,25.89,36.08,\n",
    "            9.33,28.60,27.48,46.90,17.89,26.28,26.36,21.60,9.70,14.43,14.80,22.48,13.70,28.81,16.22,21.24,28.76,17.86,59.12,23.59,11.14,13.41,10.20,25.01,3.30,\n",
    "            8.08,30.05,9.08,25.23,39.53,16.67,16.89,29.22,26.89,31.92,27.61,11.26,16.86,3.95,4.58,5.23,26.39,55.28,14.13])\n",
    "\n",
    "\n",
    "t_fehler=0.25\n",
    "t_err=np.full(len(t1),t_fehler)\n",
    "t1_err=t2_err=t_err\n",
    "\n",
    "#Strecke; x ist gemessen durchs Mikroskop; s ist umgerechnet in den Realen wert\n",
    "x=np.full(len(t1),2)\n",
    "\n",
    "x_fehler=0.2\n",
    "x_err=np.full(len(x),x_fehler)\n",
    "\n",
    "#Position\n",
    "z=1.875 #zoom\n",
    "\n",
    "z_err=1.875*0.01\n",
    "s=x/z*10**(-3)\n",
    "s_err=np.sqrt((1/z*10**(-3)*x_err)**2+\n",
    "              (x*10**(-3)*z_err/z**2)**2)\n",
    "\n",
    "#Geschwindigkeit\n",
    "v1=s/t1\n",
    "v1_err=np.sqrt((s_err/t1)**2+(s*t1_err/t1**2)**2)\n",
    "v2=s/t2\n",
    "v2_err=np.sqrt((s_err/t2)**2+(s*t2_err/t2**2)**2)\n",
    "\n",
    "\n",
    "eta=1.81*10**(-5)\n",
    "d=6*10**(-3)\n",
    "poel=875.3\n",
    "pl=1.29\n",
    "p=874\n",
    "p_err=0\n",
    "g=9.81\n",
    "\n",
    "Q=(v1+v2)*np.sqrt(v1)/U*eta**(3/2)*18*np.pi*d/np.sqrt(2*p*g)\n",
    "q=Q\n",
    "Q=Q*10**19\n",
    "\n",
    "q_err=9*np.pi*d*eta**(3/2)/np.sqrt(g*p)*np.sqrt(((3*v1+v2)/(U*np.sqrt(2*v1))*v1_err)**2+\n",
    "                                                (np.sqrt(2*v1)/U*v2_err)**2+\n",
    "                                                (np.sqrt(2*v1)*(v1+v2)/U**2*U_err)**2)\n",
    "Q_all=Q\n",
    "#welches eta? \n",
    "\n",
    "r=np.sqrt(9*eta*v1/(2*p*g))\n",
    "#r_err überprüfen\n",
    "r_err=1/(2*np.sqrt(9*eta*v1/(2*p*g)))*9*eta/(2*p*g)*v1_err\n",
    "\n",
    "xk=1/(p*r)\n",
    "yk=(q)**(2/3)\n",
    "\n",
    "b=8*10**(-5)\n",
    "p=1013.25\n",
    "Qk=Q/(1+b/(r*p))**(3/2)\n",
    "qk=q/(1+b/(r*p))**(3/2)\n",
    "\n",
    "\n",
    "qk_err=np.sqrt((q_err/(1+b/(r*p))**(3/2))**2+((3*b*q)/(1+b/(r*p))**(5/2)*2*p*r**2)**2)\n",
    "\n",
    "print(Qk_err-(qk_err*10**(19)))\n",
    "abslim=1.6*14\n",
    "\n",
    "Q = Q[Q < abslim]\n",
    "\n",
    "stepsize=0.25\n",
    "\n",
    "\n",
    "#Histogramm erstellen\n",
    "bins=np.arange(min(Q)-stepsize/2,max(Q)+stepsize/1.5,stepsize)\n",
    "[n,binsh,ka]=plt.hist(Q,bins=bins,density=False,edgecolor='black', linewidth=1.2)\n",
    "plt.title(stepsize)\n",
    "plt.xlabel(\"Q in $10^{-19}$ [As]\")\n",
    "plt.ylabel(\"Anzahl\")\n",
    "plt.title(\"Q kleiner als 14*e\")\n",
    "\n",
    "plt.xlim(0,abslim)\n",
    "plt.savefig(\"hist_0.25.png\",dpi=300)\n",
    "plt.show()\n",
    "Q=Qk\n",
    "\n",
    "bins=np.arange(min(Q)-stepsize/2,max(Q)+stepsize/1.5,stepsize)\n",
    "[n,binsh,ka]=plt.hist(Q,bins=bins,density=False,edgecolor='black', linewidth=1.2)\n",
    "\n",
    "plt.xlabel(\"Q in $10^{-19}$ [As]\")\n",
    "plt.ylabel(\"Anzahl\")\n",
    "plt.title(\"Q kleiner als 14*e und korrigierte Ladungen\")\n",
    "#for i in range(int(abslim/1.6)):\n",
    "#    plt.axvline(x=(i+1)*1.6, linewidth=1, color='r')\n",
    "plt.xlim(0,abslim)\n",
    "plt.savefig(\"hist_0.25_kor.png\",dpi=300)\n",
    "\n",
    "plt.show()\n",
    "\n",
    "#edgecolor='blue'\n",
    "bins=np.arange(min(Q)-stepsize/2,max(Q)+stepsize/1.5,stepsize)\n",
    "[n,binsh,ka]=plt.hist(Q,bins=bins,density=False, linewidth=1.2,alpha = 0.5)\n",
    "plt.xlabel(\"Q in $10^{-19}$ [As]\")\n",
    "plt.ylabel(\"Anzahl\")\n",
    "\n",
    "\n",
    "head_length = 0.3\n",
    "head_width=0.3\n",
    "def arrow(x1,x2):\n",
    "    plt.axvline(x=x1, linewidth=0.75, color='k', linestyle='dashed')\n",
    "    plt.axvline(x=x2, linewidth=0.75, color='k',linestyle='dashed')\n",
    "\n",
    "    Qx = Q[(Q > x1) & (Q < x2)] \n",
    "    mean=np.mean(Qx)\n",
    "    avgerr=1.6828674292011299/np.sqrt(len(Qx))\n",
    "    \n",
    "    err=(x2-x1)/2\n",
    "    plt.axvline(x=mean, linewidth=1.5, color='r')\n",
    "    plt.arrow(x=x1,y=5,dx=(x2-x1)-head_length,dy=0,head_width=head_width, head_length=head_length)\n",
    "    plt.arrow(x=x2-head_length,y=5,dx=-((x2-x1)-2*head_length),dy=0,head_width=head_width, head_length=head_length)\n",
    "    #print(err)\n",
    "    print(str(avgerr))\n",
    "    return mean\n",
    "\n",
    "\n",
    "means=np.array([arrow(3,4.1),\n",
    "                arrow(5,5.8),\n",
    "                arrow(6.1,6.8),\n",
    "                arrow(7.1,8.3),\n",
    "                arrow(9.35,9.7),\n",
    "                arrow(10.1,11.05),\n",
    "                arrow(11.6,12.3),\n",
    "                arrow(12.8,13.1),\n",
    "                arrow(14.5,15.8),\n",
    "                arrow(17,17.3),\n",
    "                arrow(18.7,19.3),\n",
    "                arrow(20.5,20.9)])\n",
    "\n",
    "plt.xlim(0,abslim)\n",
    "plt.savefig(\"hist_0.25_kor_bins.png\",dpi=300)\n",
    "plt.show()\n",
    "\n",
    "\n",
    "\n",
    "\n",
    "#Für die Korekturplot:\n",
    "\n",
    "def lin_func(B, x):\n",
    "    [m,y0]=B\n",
    "    return m*x+y0\n",
    "def fit(x,y,x_err,y_err):\n",
    "    #definerit die zu fittene Funktion,in B sind die Parameter und x ist die unabhängige\n",
    "\n",
    "    lin_model = Model(lin_func)\n",
    "\n",
    "    #Überprüft welche Fehler angegeben wurden\n",
    "    if (np.isnan(x_err).any() and np.isnan(y_err).any()):\n",
    "        data = RealData(x, y)\n",
    "    elif np.isnan(x_err).any():\n",
    "        data = RealData(x, y, sy=y_err)\n",
    "    elif np.isnan(y_err).any():\n",
    "        data = RealData(x, y, sx=x_err)\n",
    "    else:\n",
    "        data = RealData(x, y, sx=x_err, sy=y_err)\n",
    "    \n",
    "    #Führt den Fit aus, beta0 sind die Startwerte\n",
    "    odr = ODR(data, lin_model, beta0=[-3*10**(6),0])\n",
    "    out = odr.run()\n",
    "    #out.beta beinhaltet die Parameter\n",
    "    #out.sd_beta beinhaltet die Fehler der Parameter\n",
    "    return out\n",
    "\n",
    "\n",
    "\n",
    "if False:\n",
    "\n",
    "    plt.show()\n",
    "    out=fit(x=xk,y=yk,x_err=xk_err,y_err=yk_err)\n",
    "    out.pprint()\n",
    "    plt.errorbar(xk, yk, xerr=xk_err, yerr=yk_err, color=\"b\", fmt='.', label=\"Fehler\",capsize=5)\n",
    "\n",
    "    xp=np.linspace(0,4000,40000)\n",
    "    yp=lin_func(out.beta,xp)\n",
    "    plt.plot(xp,yp)\n",
    "    print(\"b\")\n",
    "    \n",
    "xk_err=np.sqrt((r_err/(r**2*p))**2+(p_err/(p**2*r))**2)\n",
    "yk_err=2/(3*q**(1/3))*Q_err\n",
    "#out = zeichnen(x=xk,y=yk,x_err=xk_err,y_err=yk_err,xlabel=\"1/(pr)\",ylabel=\"Q^(2/3)\",label=\"\",fx_title=\"Q(n)\",x_title=\"n\",m_unit=\"As\",b_unit=\"As\",speichername=\"b_plot.png\",save=True)\n",
    "print(out.beta[0]/out.beta[1])"
   ]
  },
  {
   "cell_type": "code",
   "execution_count": 259,
   "metadata": {
    "scrolled": true
   },
   "outputs": [
    {
     "data": {
      "text/plain": [
       "-0.0003399657803116249"
      ]
     },
     "execution_count": 259,
     "metadata": {},
     "output_type": "execute_result"
    }
   ],
   "source": [
    "out.beta[0]/out.beta[1]"
   ]
  },
  {
   "cell_type": "code",
   "execution_count": 72,
   "metadata": {},
   "outputs": [
    {
     "data": {
      "text/plain": [
       "array([3.77928095, 3.73031248, 3.21199062, 4.00035768, 3.61291032,\n",
       "       3.51237334, 3.19565028, 3.40622616, 3.40793506, 3.3227498 ])"
      ]
     },
     "execution_count": 72,
     "metadata": {},
     "output_type": "execute_result"
    }
   ],
   "source": [
    "Q[(Q > 3) & (Q < 4.25)]"
   ]
  },
  {
   "cell_type": "code",
   "execution_count": 4,
   "metadata": {},
   "outputs": [
    {
     "data": {
      "text/plain": [
       "60"
      ]
     },
     "execution_count": 4,
     "metadata": {},
     "output_type": "execute_result"
    }
   ],
   "source": [
    "len(U)"
   ]
  },
  {
   "cell_type": "code",
   "execution_count": 52,
   "metadata": {},
   "outputs": [
    {
     "data": {
      "text/plain": [
       "41"
      ]
     },
     "execution_count": 52,
     "metadata": {},
     "output_type": "execute_result"
    }
   ],
   "source": [
    "len(t2)"
   ]
  },
  {
   "cell_type": "code",
   "execution_count": 270,
   "metadata": {},
   "outputs": [
    {
     "data": {
      "text/plain": [
       "array([1.00849372e-19, 1.45500088e-19, 2.59185626e-19, 6.61685915e-20,\n",
       "       1.59537234e-19, 7.87790082e-20, 7.84888612e-20, 6.93295313e-20,\n",
       "       8.92778332e-20, 8.93576100e-20, 3.04637285e-19, 1.22785306e-19,\n",
       "       1.28448314e-19, 9.57740012e-19, 4.08174777e-19, 1.48231416e-19,\n",
       "       4.01600827e-19, 4.17808772e-20, 4.10177706e-20, 8.61192948e-20,\n",
       "       2.81522075e-19, 1.79751153e-19, 1.84532413e-19, 2.40603060e-19,\n",
       "       1.83994220e-19, 1.24697201e-19, 1.14975572e-19, 6.51974969e-20,\n",
       "       4.18733312e-20, 7.63902723e-20, 1.57288119e-19, 2.54883648e-19,\n",
       "       4.45759695e-20, 3.39241020e-19, 9.67977103e-20, 3.92861647e-20,\n",
       "       1.94772503e-19, 7.53854404e-20, 1.06755886e-19, 8.11210868e-20,\n",
       "       4.82293326e-19, 2.35136619e-19, 6.82799462e-20, 3.52244243e-19,\n",
       "       3.82288430e-20, 3.60250702e-20, 1.59115782e-19, 1.35812476e-19,\n",
       "       1.53128269e-19, 3.71299882e-20, 3.77168043e-20, 9.11183875e-20,\n",
       "       1.35027930e-19, 5.58832934e-20, 3.85182475e-19, 3.57687359e-19,\n",
       "       3.16638684e-19, 1.53953965e-19, 3.97512760e-20, 1.66195858e-19])"
      ]
     },
     "execution_count": 270,
     "metadata": {},
     "output_type": "execute_result"
    }
   ],
   "source": [
    "Qk_err"
   ]
  },
  {
   "cell_type": "code",
   "execution_count": 276,
   "metadata": {},
   "outputs": [
    {
     "data": {
      "image/png": "[encoded data removed]",
      "text/plain": [
       "<Figure size 432x288 with 1 Axes>"
      ]
     },
     "metadata": {
      "needs_background": "light"
     },
     "output_type": "display_data"
    }
   ],
   "source": [
    "def fit(x,y,x_err,y_err):\n",
    "    #definerit die zu fittene Funktion,in B sind die Parameter und x ist die unabhängige\n",
    "\n",
    "    lin_model = Model(lin_func)\n",
    "\n",
    "    #Überprüft welche Fehler angegeben wurden\n",
    "    if (np.isnan(x_err).any() and np.isnan(y_err).any()):\n",
    "        data = RealData(x, y)\n",
    "    elif np.isnan(x_err).any():\n",
    "        data = RealData(x, y, sy=y_err)\n",
    "    elif np.isnan(y_err).any():\n",
    "        data = RealData(x, y, sx=x_err)\n",
    "    else:\n",
    "        data = RealData(x, y, sx=x_err, sy=y_err)\n",
    "    \n",
    "    #Führt den Fit aus, beta0 sind die Startwerte\n",
    "    odr = ODR(data, lin_model, beta0=[1.9,4])\n",
    "    out = odr.run()\n",
    "    #out.beta beinhaltet die Parameter\n",
    "    #out.sd_beta beinhaltet die Fehler der Parameter\n",
    "    return out\n",
    "\n",
    "def zeichnen (x, y,label=\"\", speichername=\"\", xlabel=\"\", ylabel=\"\",fx_title=\"\",x_title=\"\", save=False,x_err=np.nan,y_err=np.nan,m_unit=\"\",b_unit=\"\"):\n",
    "    \n",
    "    #Überprüft ob x&y die selbe Länge haben\n",
    "    if not(len(x)==len(y)):\n",
    "        sys.exit(\"Die Länge von x und y stimmen nicht überein\")\n",
    "    \n",
    "    #Fit ereugen\n",
    "    out = fit(x,y,x_err,y_err)\n",
    "    \n",
    "    #Überprüft welche Fehler angegeben wurden und ihre Länge\n",
    "    if np.isnan(x_err).any():\n",
    "        x_err=np.zeros_like(x)\n",
    "    elif not(len(x)==len(x_err)):\n",
    "        sys.exit(\"Die Länge von x und x_err stimmen nicht überein\")\n",
    "        \n",
    "    if np.isnan(y_err).any():\n",
    "        y_err=np.zeros_like(x)\n",
    "    elif not(len(y)==len(y_err)):\n",
    "        sys.exit(\"Die Länge von y und y_err stimmen nicht überein\")\n",
    "    \n",
    "    \n",
    "    #Plottet die Punkte und ihre Fehler\n",
    "    plt.plot(x, y, \"ok\", label=label)\n",
    "    plt.errorbar(x, y, xerr=x_err, yerr=y_err, color=\"b\", fmt='.', label=\"Fehler\",capsize=5)\n",
    "    \n",
    "    #Plottet den Linearen Fit\n",
    "    plt.plot(x, (out.beta[0]*x+out.beta[1]), color=\"k\")\n",
    "    \n",
    "    #x,y label\n",
    "    plt.xlabel(xlabel)\n",
    "    plt.ylabel(ylabel)\n",
    "    #Legt den Titel fest, f(x) und x durch die jeweiligen Variabeln Austauschen\n",
    "    plt.title((fx_title+\" = ({:.4f}$\\pm${:.4f})\".format(out.beta[0],out.sd_beta[0])\n",
    "               +m_unit+\" $\\cdot$ \"+x_title+\" + ({:.4f}$\\pm${:.4f})\".format(out.beta[1],out.sd_beta[1])+b_unit))\n",
    "    \n",
    "    #sonstiges\n",
    "    plt.grid()\n",
    "    plt.legend()\n",
    "    \n",
    "    #eventuelles Speichern\n",
    "    if bool(save) == True:\n",
    "        plt.savefig(speichername,dpi=300)\n",
    "    \n",
    "    #Darstellen der Plottes\n",
    "    plt.show()\n",
    "    \n",
    "    #weitergeben der fit Eigenschaften\n",
    "    return out\n",
    "\n",
    "xm=np.arange(1,13)\n",
    "ym=means\n",
    "plt.xlim(0,13)\n",
    "plt.ylim(0,25)\n",
    "error=np.array([0.5321694076387724,\n",
    "0.7526011937628082,\n",
    "0.56095580973371,\n",
    "0.8414337146005649,\n",
    "1.189966971026091,\n",
    "0.6870277510486773,\n",
    "0.7526011937628082,\n",
    "1.6828674292011299,\n",
    "0.7526011937628082,\n",
    "1.6828674292011299,\n",
    "0.9716039632597259,\n",
    "1.6828674292011299])\n",
    "out = zeichnen(x=xm,y=ym,y_err=error,xlabel=\"n\",ylabel=\"Q in $10^{-19}$ [As]\",label=\"Ladung\",fx_title=\"Q(n)\",x_title=\"n\",m_unit=\"As\",b_unit=\"As\",save=True,speichername=\"e_plot.png\")\n"
   ]
  },
  {
   "cell_type": "code",
   "execution_count": 2,
   "metadata": {},
   "outputs": [
    {
     "data": {
      "text/plain": [
       "array([1.19017851e-19, 1.71645685e-19, 2.81569553e-19, 8.07062556e-20,\n",
       "       1.89920990e-19, 9.61884901e-20, 9.61014992e-20, 7.95276540e-20,\n",
       "       1.09566190e-19, 1.21327018e-19, 3.65896288e-19, 1.57870750e-19,\n",
       "       1.63801529e-19, 1.05554010e-18, 4.87833016e-19, 1.82562135e-19,\n",
       "       4.48093007e-19, 5.03636896e-20, 4.92721568e-20, 1.08968528e-19,\n",
       "       3.26965303e-19, 2.15101906e-19, 2.20880304e-19, 2.83382737e-19,\n",
       "       2.05720690e-19, 1.42729213e-19, 1.31818372e-19, 7.70299555e-20,\n",
       "       4.77699550e-20, 9.21419835e-20, 1.81434873e-19, 2.99813035e-19,\n",
       "       5.37593302e-20, 3.93954158e-19, 1.25768960e-19, 4.65948768e-20,\n",
       "       2.19452420e-19, 8.58858628e-20, 1.19688765e-19, 9.66732251e-20,\n",
       "       5.15253696e-19, 2.60436756e-19, 8.26685615e-20, 3.92462664e-19,\n",
       "       4.55909888e-20, 4.47723315e-20, 1.83887702e-19, 1.57098835e-19,\n",
       "       1.84934239e-19, 4.45189400e-20, 4.59163320e-20, 1.09499619e-19,\n",
       "       1.52231252e-19, 6.46341062e-20, 4.14011953e-19, 3.86541437e-19,\n",
       "       3.43957939e-19, 1.84296493e-19, 5.12395054e-20, 1.89972155e-19])"
      ]
     },
     "execution_count": 2,
     "metadata": {},
     "output_type": "execute_result"
    }
   ],
   "source": [
    "Q_err"
   ]
  }
 ],
 "metadata": {
  "kernelspec": {
   "display_name": "Python 3",
   "language": "python",
   "name": "python3"
  },
  "language_info": {
   "codemirror_mode": {
    "name": "ipython",
    "version": 3
   },
   "file_extension": ".py",
   "mimetype": "text/x-python",
   "name": "python",
   "nbconvert_exporter": "python",
   "pygments_lexer": "ipython3",
   "version": "3.8.3"
  }
 },
 "nbformat": 4,
 "nbformat_minor": 4
}
