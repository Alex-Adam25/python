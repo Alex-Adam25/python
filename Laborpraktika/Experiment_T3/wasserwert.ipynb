{
 "cells": [
  {
   "cell_type": "code",
   "execution_count": 3,
   "metadata": {},
   "outputs": [
    {
     "data": {
      "image/png": "[encoded data removed]",
      "text/plain": [
       "<Figure size 432x288 with 1 Axes>"
      ]
     },
     "metadata": {
      "needs_background": "light"
     },
     "output_type": "display_data"
    }
   ],
   "source": [
    "import numpy as np\n",
    "import matplotlib.pyplot as plt\n",
    "from scipy import optimize\n",
    "from scipy import stats \n",
    "y=np.array([45,44.9,44.9,44.8,44.7,44.6,44.5,33.5,33.5,33.5,33.5,33.5,33.5,33.5,33.5])\n",
    "err=np.full(15,0.1)\n",
    "#scipy.stats.linregress\n",
    "x=np.arange(start=0,stop=30*14+1,step=30)\n",
    "plt.scatter(x,y,color=\"red\")\n",
    "plt.errorbar(x,y,yerr=err,fmt=\".\")\n",
    "def line(x,m,b):\n",
    "    return m*x+b\n",
    "\n",
    "reg1= stats.linregress(x[0:7], y[0:7])\n",
    "reg2= stats.linregress(x[6:8], y[6:8])\n",
    "reg3= stats.linregress(x[7:], y[7:])\n",
    "\n",
    "def area(t):\n",
    "    x1=abs((reg1[1]-reg2[1]) / (reg1[0]-reg2[0]))\n",
    "    x2=t\n",
    "    x3=t\n",
    "    y1=line(x1,reg1[0],reg1[1])\n",
    "    y2=line(t,reg1[0],reg1[1])\n",
    "    y3=line(t,reg2[0],reg2[1])\n",
    "    c=np.cross(np.array([x1,x2,x3]),np.array([y1,y2,y3]))\n",
    "    area1 = abs(np.sum(c))/2\n",
    "    x1=abs((reg3[1]-reg2[1]) / (reg3[0]-reg2[0]))\n",
    "    x2=t\n",
    "    x3=t\n",
    "    y1=line(x1,reg3[0],reg3[1])\n",
    "    y2=line(t,reg3[0],reg3[1])\n",
    "    y3=line(t,reg2[0],reg2[1])\n",
    "    c=np.cross(np.array([x1,x2,x3]),np.array([y1,y2,y3]))\n",
    "    area2 = abs(np.sum(c))/2\n",
    "    return abs(area1-area2)\n",
    "\n",
    "res = optimize.minimize_scalar(area)\n",
    "bestt=res.x\n",
    "t1=\"{:.4f}\".format(line(bestt,reg1[0],reg1[1]))\n",
    "tn=\"{:.4f}\".format(line(bestt,reg3[0],reg3[1]))\n",
    "\n",
    "plt.plot(x[0:7],line(x[0:7],reg1[0],reg1[1]),color=\"red\",)\n",
    "plt.plot(x[6:8],line(x[6:8],reg2[0],reg2[1]),color=\"yellow\")\n",
    "plt.plot(x[7:],line(x[7:],reg3[0],reg3[1]),color=\"green\")\n",
    "plt.ylabel(r'Temperature $T$ (in Celsius)')\n",
    "plt.xlabel(r'Zeit $t$ (in Sekunden)')\n",
    "plt.plot\n",
    "plt.xticks(x)\n",
    "plt.ylim(bottom=32.5,top=47.5)\n",
    "plt.grid()\n",
    "plt.title(f\"Temperaturkuve des Wasserwerts; $t_1$={t1} & $t_n$={tn}\")\n",
    "plt.axvline(x=bestt,color=\"red\")\n",
    "#plt.plot(x,line(x,params[0],params[1]),color=\"green\")\n",
    "\n",
    "\n",
    "low= abs((reg1[1]-reg2[1]) / (reg1[0]-reg2[0]))\n",
    "high= abs((reg3[1]-reg2[1]) / (reg3[0]-reg2[0]))\n",
    "x = np.arange(low,bestt,1)\n",
    "\n",
    "y1 =x*reg1[0]+reg1[1]\n",
    "y2 =x*reg2[0]+reg2[1]\n",
    "y3 =x*reg3[0]+reg3[1]\n",
    "\n",
    "plt.fill_between(x,y1,y2,color='grey',alpha='0.5')\n",
    "\n",
    "x = np.arange(bestt,high,1)\n",
    "\n",
    "y1 =x*reg1[0]+reg1[1]\n",
    "y2 =x*reg2[0]+reg2[1]\n",
    "y3 =x*reg3[0]+reg3[1]\n",
    "\n",
    "\n",
    "plt.fill_between(x,y2,y3,color='grey',alpha='0.5')\n",
    "\n",
    "plt.savefig(\"wasserwert.png\")\n"
   ]
  }
 ],
 "metadata": {
  "kernelspec": {
   "display_name": "Python 3",
   "language": "python",
   "name": "python3"
  },
  "language_info": {
   "codemirror_mode": {
    "name": "ipython",
    "version": 3
   },
   "file_extension": ".py",
   "mimetype": "text/x-python",
   "name": "python",
   "nbconvert_exporter": "python",
   "pygments_lexer": "ipython3",
   "version": "3.7.6"
  }
 },
 "nbformat": 4,
 "nbformat_minor": 2
}
