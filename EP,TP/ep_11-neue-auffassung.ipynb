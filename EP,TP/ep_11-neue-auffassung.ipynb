{
 "cells": [
  {
   "cell_type": "code",
   "execution_count": 1,
   "metadata": {},
   "outputs": [],
   "source": [
    "import scipy.constants as cons\n",
    "import numpy as np\n",
    "h=cons.h\n",
    "hb=cons.hbar\n",
    "e=cons.e\n",
    "c=cons.c\n",
    "m_e=cons.m_e\n",
    "alp=cons.alpha\n",
    "ry=cons.Rydberg*h*c\n",
    "evtocm1=8065.45\n",
    "\n",
    "def sl(l,j): #Skalarprodukt\n",
    "    return 0.5*hb**2*(j*(j+1)-l*(l+1)-0.5*(0.5+1))\n",
    "\n",
    "def E_ver(n,l,j): #Verschiebung wegen Spin-Bahn-Kopplung\n",
    "    return alp**4*m_e*c**2/(2*hb**2)*sl(l,j)/(n**3*l*(l+0.5)*(l+1))\n",
    "\n",
    "def E_von_n(n): #Gesamtenergie\n",
    "    return -ry/n**2\n",
    "\n",
    "def E_mit_spin(n,l,j):\n",
    "    if l==0:\n",
    "        return E_von_n(n)\n",
    "    return E_von_n(n)+_ver(n,l,j)"
   ]
  },
  {
   "cell_type": "code",
   "execution_count": 2,
   "metadata": {},
   "outputs": [
    {
     "name": "stdout",
     "output_type": "stream",
     "text": [
      "n=2,l=1,j=0.5    E=-30.188399499607854µeV\n",
      "n=2,l=1,j=1.5    E=15.094199749803927µeV\n",
      "n=3,l=1,j=0.5    E=-8.944710962846774µeV\n",
      "n=3,l=1,j=1.5    E=4.472355481423387µeV\n",
      "n=3,l=2,j=1.5    E=-2.683413288854032µeV\n",
      "n=3,l=2,j=2.5    E=1.7889421925693545µeV\n"
     ]
    }
   ],
   "source": [
    "print(f\"n=2,l=1,j=0.5    E={E_ver(2,1,0.5)/e*1e6}µeV\")\n",
    "print(f\"n=2,l=1,j=1.5    E={E_ver(2,1,1.5)/e*1e6}µeV\")\n",
    "print(f\"n=3,l=1,j=0.5    E={E_ver(3,1,0.5)/e*1e6}µeV\")\n",
    "print(f\"n=3,l=1,j=1.5    E={E_ver(3,1,1.5)/e*1e6}µeV\")\n",
    "print(f\"n=3,l=2,j=1.5    E={E_ver(3,2,1.5)/e*1e6}µeV\")\n",
    "print(f\"n=3,l=2,j=2.5    E={E_ver(3,2,2.5)/e*1e6}µeV\")"
   ]
  },
  {
   "cell_type": "code",
   "execution_count": 3,
   "metadata": {},
   "outputs": [
    {
     "name": "stdout",
     "output_type": "stream",
     "text": [
      "n=2,l=1,j=0.5    E=-0.24348302674411215cm^-1\n",
      "n=2,l=1,j=1.5    E=0.12174151337205608cm^-1\n",
      "n=3,l=1,j=0.5    E=-0.0721431190352925cm^-1\n",
      "n=3,l=1,j=1.5    E=0.03607155951764625cm^-1\n",
      "n=3,l=2,j=1.5    E=-0.02164293571058775cm^-1\n",
      "n=3,l=2,j=2.5    E=0.0144286238070585cm^-1\n"
     ]
    }
   ],
   "source": [
    "print(f\"n=2,l=1,j=0.5    E={E_ver(2,1,0.5)/e*evtocm1}cm^-1\")\n",
    "print(f\"n=2,l=1,j=1.5    E={E_ver(2,1,1.5)/e*evtocm1}cm^-1\")\n",
    "print(f\"n=3,l=1,j=0.5    E={E_ver(3,1,0.5)/e*evtocm1}cm^-1\")\n",
    "print(f\"n=3,l=1,j=1.5    E={E_ver(3,1,1.5)/e*evtocm1}cm^-1\")\n",
    "print(f\"n=3,l=2,j=1.5    E={E_ver(3,2,1.5)/e*evtocm1}cm^-1\")\n",
    "print(f\"n=3,l=2,j=2.5    E={E_ver(3,2,2.5)/e*evtocm1}cm^-1\")"
   ]
  },
  {
   "cell_type": "code",
   "execution_count": 4,
   "metadata": {},
   "outputs": [
    {
     "data": {
      "text/plain": [
       "-13.605693122994232"
      ]
     },
     "execution_count": 4,
     "metadata": {},
     "output_type": "execute_result"
    }
   ],
   "source": [
    "E_von_n(1)/e"
   ]
  },
  {
   "cell_type": "code",
   "execution_count": 5,
   "metadata": {},
   "outputs": [
    {
     "data": {
      "text/plain": [
       "-3.401423280748558"
      ]
     },
     "execution_count": 5,
     "metadata": {},
     "output_type": "execute_result"
    }
   ],
   "source": [
    "E_von_n(2)/e"
   ]
  },
  {
   "cell_type": "code",
   "execution_count": 6,
   "metadata": {},
   "outputs": [
    {
     "data": {
      "text/plain": [
       "-1.5117436803326925"
      ]
     },
     "execution_count": 6,
     "metadata": {},
     "output_type": "execute_result"
    }
   ],
   "source": [
    "E_von_n(3)/e"
   ]
  },
  {
   "cell_type": "code",
   "execution_count": 7,
   "metadata": {},
   "outputs": [
    {
     "ename": "NameError",
     "evalue": "name 'a' is not defined",
     "output_type": "error",
     "traceback": [
      "\u001b[1;31m---------------------------------------------------------------------------\u001b[0m",
      "\u001b[1;31mNameError\u001b[0m                                 Traceback (most recent call last)",
      "\u001b[1;32m<ipython-input-7-d867a7620d74>\u001b[0m in \u001b[0;36m<module>\u001b[1;34m\u001b[0m\n\u001b[0;32m      3\u001b[0m \u001b[0mE_darwin_1\u001b[0m\u001b[1;33m=\u001b[0m\u001b[0me\u001b[0m\u001b[1;33m**\u001b[0m\u001b[1;36m2\u001b[0m\u001b[1;33m*\u001b[0m\u001b[0mhb\u001b[0m\u001b[1;33m**\u001b[0m\u001b[1;36m2\u001b[0m\u001b[1;33m/\u001b[0m\u001b[1;33m(\u001b[0m\u001b[1;36m8\u001b[0m\u001b[1;33m*\u001b[0m\u001b[0mcons\u001b[0m\u001b[1;33m.\u001b[0m\u001b[0mepsilon_0\u001b[0m\u001b[1;33m*\u001b[0m\u001b[0mm_e\u001b[0m\u001b[1;33m**\u001b[0m\u001b[1;36m2\u001b[0m\u001b[1;33m*\u001b[0m\u001b[0mc\u001b[0m\u001b[1;33m**\u001b[0m\u001b[1;36m2\u001b[0m\u001b[1;33m)\u001b[0m\u001b[1;33m*\u001b[0m\u001b[0mphi_quad_1\u001b[0m\u001b[1;33m\u001b[0m\u001b[1;33m\u001b[0m\u001b[0m\n\u001b[0;32m      4\u001b[0m \u001b[1;33m\u001b[0m\u001b[0m\n\u001b[1;32m----> 5\u001b[1;33m \u001b[0mE_rel\u001b[0m\u001b[1;33m=\u001b[0m\u001b[0mE_von_n\u001b[0m\u001b[1;33m(\u001b[0m\u001b[1;36m1\u001b[0m\u001b[1;33m)\u001b[0m\u001b[1;33m*\u001b[0m\u001b[1;33m(\u001b[0m\u001b[1;33m-\u001b[0m\u001b[0ma\u001b[0m\u001b[1;33m**\u001b[0m\u001b[1;36m2\u001b[0m\u001b[1;33m*\u001b[0m\u001b[1;33m(\u001b[0m\u001b[1;36m3\u001b[0m\u001b[1;33m/\u001b[0m\u001b[1;36m4\u001b[0m\u001b[1;33m-\u001b[0m\u001b[1;36m2\u001b[0m\u001b[1;33m)\u001b[0m\u001b[1;33m)\u001b[0m\u001b[1;33m\u001b[0m\u001b[1;33m\u001b[0m\u001b[0m\n\u001b[0m\u001b[0;32m      6\u001b[0m \u001b[1;33m(\u001b[0m\u001b[0mE_rel\u001b[0m\u001b[1;33m+\u001b[0m\u001b[0mE_darwin_1\u001b[0m\u001b[1;33m)\u001b[0m\u001b[1;33m/\u001b[0m\u001b[0me\u001b[0m\u001b[1;33m\u001b[0m\u001b[1;33m\u001b[0m\u001b[0m\n",
      "\u001b[1;31mNameError\u001b[0m: name 'a' is not defined"
     ]
    }
   ],
   "source": [
    "a_=m_e*e**2/(4*np.pi*cons.epsilon_0*hb**2)\n",
    "phi_quad_1=a_**3/np.pi\n",
    "E_darwin_1=e**2*hb**2/(8*cons.epsilon_0*m_e**2*c**2)*phi_quad_1\n",
    "\n",
    "E_rel=E_von_n(1)*(-a**2*(3/4-2))\n",
    "(E_rel+E_darwin_1)/e"
   ]
  },
  {
   "cell_type": "code",
   "execution_count": null,
   "metadata": {},
   "outputs": [],
   "source": [
    "m,a,b,v0,grad=1.79e-25,0.05,0.08,500,1000\n",
    "\n",
    "1.1e-3/(-1/m*grad*(a/v0)*(1/2*a/v0+b/v0))"
   ]
  },
  {
   "cell_type": "code",
   "execution_count": null,
   "metadata": {},
   "outputs": [],
   "source": [
    "np.rad2deg(np.arccos(5/np.sqrt(20*12)))"
   ]
  },
  {
   "cell_type": "code",
   "execution_count": null,
   "metadata": {},
   "outputs": [],
   "source": [
    "l,s,j=3,3,6\n",
    "\n",
    "np.rad2deg(np.arccos((j*(j+1)-l*(l+1)-s*(s+1))/(2*np.sqrt(l*(l+1)*s*(s+1)))))"
   ]
  }
 ],
 "metadata": {
  "kernelspec": {
   "display_name": "Python [conda env:Anaconda3] *",
   "language": "python",
   "name": "conda-env-Anaconda3-py"
  },
  "language_info": {
   "codemirror_mode": {
    "name": "ipython",
    "version": 3
   },
   "file_extension": ".py",
   "mimetype": "text/x-python",
   "name": "python",
   "nbconvert_exporter": "python",
   "pygments_lexer": "ipython3",
   "version": "3.8.5"
  }
 },
 "nbformat": 4,
 "nbformat_minor": 4
}
