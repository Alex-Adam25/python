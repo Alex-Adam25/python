{
 "cells": [
  {
   "cell_type": "code",
   "execution_count": 14,
   "metadata": {},
   "outputs": [
    {
     "name": "stdout",
     "output_type": "stream",
     "text": [
      "0.026040296320015626\n"
     ]
    }
   ],
   "source": [
    "from numpy import sqrt,sinh\n",
    "import scipy.constants as cons\n",
    "\n",
    "E=0.8*cons.e\n",
    "E0=cons.e\n",
    "a=1e-9\n",
    "wurzel=sqrt(2*cons.m_e*(E0-E))\n",
    "nenner=1-(E/E0)\n",
    "zähler=1-(E/E0)+(E0/(E*4))*sinh(wurzel*a/cons.hbar)**2\n",
    "T=nenner/zähler\n",
    "print(T)"
   ]
  },
  {
   "cell_type": "code",
   "execution_count": 15,
   "metadata": {},
   "outputs": [
    {
     "name": "stdout",
     "output_type": "stream",
     "text": [
      "ohne quadrat beim sinh:\n",
      "0.11567849738275943\n"
     ]
    }
   ],
   "source": [
    "print(\"ohne quadrat beim sinh:\")\n",
    "nenner=1-(E/E0)\n",
    "zähler=1-(E/E0)+(E0/(E*4))*sinh(wurzel*a/cons.hbar)\n",
    "T=nenner/zähler\n",
    "print(T)"
   ]
  }
 ],
 "metadata": {
  "kernelspec": {
   "display_name": "Python 3",
   "language": "python",
   "name": "python3"
  },
  "language_info": {
   "codemirror_mode": {
    "name": "ipython",
    "version": 3
   },
   "file_extension": ".py",
   "mimetype": "text/x-python",
   "name": "python",
   "nbconvert_exporter": "python",
   "pygments_lexer": "ipython3",
   "version": "3.8.5"
  }
 },
 "nbformat": 4,
 "nbformat_minor": 4
}
