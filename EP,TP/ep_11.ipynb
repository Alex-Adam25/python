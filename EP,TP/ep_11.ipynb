{
 "cells": [
  {
   "cell_type": "code",
   "execution_count": 9,
   "metadata": {},
   "outputs": [],
   "source": [
    "import scipy.constants as cons\n",
    "import numpy as np\n",
    "h=cons.h\n",
    "hb=cons.hbar\n",
    "e=cons.e\n",
    "c=cons.c\n",
    "m_e=cons.m_e\n",
    "alp=cons.alpha\n",
    "ry=cons.Rydberg*h*c\n",
    "\n",
    "def sl(l,s): #Skalarprodukt\n",
    "    j=l+s\n",
    "    return 0.5*hb**2*(j*(j+1)-l*(l+1)-s*(s+1))\n",
    "\n",
    "def E_ver(n,l,s): #Verschiebung wegen Spin-Bahn-Kopplung\n",
    "    return alp**4*m_e*c**2/(2*hb**2)*sl(l,s)/(n**3*l*(l+0.5)*(l+1))\n",
    "\n",
    "def E_von_n(n): #Gesamtenergie\n",
    "    return -ry/n**2\n",
    "\n",
    "def E_mit_spin(n,l,s):\n",
    "    if l==0:\n",
    "        return E_von_n(n)\n",
    "    return E_von_n(n)+E_ver(n,l,s)"
   ]
  },
  {
   "cell_type": "code",
   "execution_count": null,
   "metadata": {},
   "outputs": [],
   "source": [
    "a_=m_e*e**2/(4*np.pi*cons.epsilon_0*hb**2)\n",
    "phi_quad_1=a_**3/np.pi\n",
    "E_darwin_1=e**2*hb**2/(8*cons.epsilon_0*m_e**2*c**2)*phi_quad_1\n",
    "\n",
    "E_rel=E_von_n(1)*(-a**2*(3/4-2))\n",
    "(E_rel+E_darwin_1)/e"
   ]
  },
  {
   "cell_type": "code",
   "execution_count": 13,
   "metadata": {},
   "outputs": [
    {
     "data": {
      "text/plain": [
       "-3.401423280748558"
      ]
     },
     "execution_count": 13,
     "metadata": {},
     "output_type": "execute_result"
    }
   ],
   "source": [
    "E_von_n(2)/e"
   ]
  },
  {
   "cell_type": "code",
   "execution_count": null,
   "metadata": {},
   "outputs": [],
   "source": [
    "E_ver(3,2,0.5)/e*8065.45"
   ]
  },
  {
   "cell_type": "code",
   "execution_count": null,
   "metadata": {},
   "outputs": [],
   "source": [
    "E_mit_spin(3,0,-0.5)/e"
   ]
  }
 ],
 "metadata": {
  "kernelspec": {
   "display_name": "Python [conda env:Anaconda3] *",
   "language": "python",
   "name": "conda-env-Anaconda3-py"
  },
  "language_info": {
   "codemirror_mode": {
    "name": "ipython",
    "version": 3
   },
   "file_extension": ".py",
   "mimetype": "text/x-python",
   "name": "python",
   "nbconvert_exporter": "python",
   "pygments_lexer": "ipython3",
   "version": "3.8.5"
  }
 },
 "nbformat": 4,
 "nbformat_minor": 4
}
