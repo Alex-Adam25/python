{
 "cells": [
  {
   "cell_type": "code",
   "execution_count": 2,
   "metadata": {},
   "outputs": [
    {
     "name": "stdout",
     "output_type": "stream",
     "text": [
      "cos(theta):  0.8120324454022596\n",
      "theta in Grad:  35.70501519937431\n"
     ]
    }
   ],
   "source": [
    "import scipy.constants as cons\n",
    "import numpy as np\n",
    "h=cons.h\n",
    "e=cons.e\n",
    "c=cons.c\n",
    "m_e=cons.m_e\n",
    "E=200*10**3*e\n",
    "\n",
    "l_c=h/(m_e*c)\n",
    "l_s=l_c+h*c/E\n",
    "l_0=l_s-l_c\n",
    "\n",
    "\n",
    "E_kin=E-h*c/l_s\n",
    "\n",
    "gamma=E_kin/(m_e*c**2)+1\n",
    "v=c*np.sqrt(1-1/gamma**2)\n",
    "\n",
    "cos_t=l_0/(2*h)*(gamma*m_e*v-h**2*(1/l_s**2-1/l_0**2)/(gamma*m_e*v))\n",
    "print(\"cos(theta): \", cos_t)\n",
    "t=np.rad2deg(np.arccos(cos_t))\n",
    "print(\"theta in Grad: \", t)\n"
   ]
  },
  {
   "cell_type": "code",
   "execution_count": 5,
   "metadata": {},
   "outputs": [
    {
     "data": {
      "text/plain": [
       "6.83452772607327e-10"
      ]
     },
     "execution_count": 5,
     "metadata": {},
     "output_type": "execute_result"
    }
   ],
   "source": [
    "v=c*np.sqrt(1-(20/511+1)**-2)\n",
    "p=(20/511+1)*(m_e)*v\n",
    "dx=cons.hbar/(2*10**-3*p)\n",
    "dx"
   ]
  },
  {
   "cell_type": "code",
   "execution_count": 7,
   "metadata": {},
   "outputs": [
    {
     "data": {
      "text/plain": [
       "7.715046502509514e-23"
      ]
     },
     "execution_count": 7,
     "metadata": {},
     "output_type": "execute_result"
    }
   ],
   "source": [
    "np.sqrt(e**2*1e6*(531**2-511**2)/c**2)"
   ]
  }
 ],
 "metadata": {
  "kernelspec": {
   "display_name": "Python 3",
   "language": "python",
   "name": "python3"
  },
  "language_info": {
   "codemirror_mode": {
    "name": "ipython",
    "version": 3
   },
   "file_extension": ".py",
   "mimetype": "text/x-python",
   "name": "python",
   "nbconvert_exporter": "python",
   "pygments_lexer": "ipython3",
   "version": "3.8.5"
  }
 },
 "nbformat": 4,
 "nbformat_minor": 4
}
