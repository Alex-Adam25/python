{
 "cells": [
  {
   "cell_type": "code",
   "execution_count": 10,
   "metadata": {},
   "outputs": [
    {
     "name": "stdout",
     "output_type": "stream",
     "text": [
      "Beta: [5.65978458 1.36941666]\n",
      "Beta Std Error: [0.20810286 0.39590504]\n",
      "Beta Covariance: [[ 9.49339195  4.64972436]\n",
      " [ 4.64972436 34.35954285]]\n",
      "Residual Variance: 0.004561783656711843\n",
      "Inverse Condition #: 0.5395383422155255\n",
      "Reason(s) for Halting:\n",
      "  Sum of squares convergence\n",
      "0.30621087363403704\n"
     ]
    },
    {
     "data": {
      "image/png": "[encoded data removed]",
      "text/plain": [
       "<Figure size 432x288 with 1 Axes>"
      ]
     },
     "metadata": {
      "needs_background": "light"
     },
     "output_type": "display_data"
    }
   ],
   "source": [
    "#Benotigte Madule(inkl. in Anaconda)\n",
    "import numpy as np\n",
    "import matplotlib.pyplot as plt\n",
    "from scipy.odr import *\n",
    "import random\n",
    "from scipy.stats import norm\n",
    "\n",
    "import sys\n",
    "\n",
    "def gau(x,m,o):\n",
    "    return (1/np.sqrt(2*np.pi*o**2))*np.exp(-(x-m)**2/(o**2)*2)\n",
    "\n",
    "def func(B, x):\n",
    "    [m1,o1]=B\n",
    "    return gau(x,m1,o1)\n",
    "    \n",
    "def fit(x,y,x_err,y_err):\n",
    "    #definerit die zu fittene Funktion,in B sind die Parameter und x ist die unabhängige\n",
    "    model = Model(func)\n",
    "\n",
    "    #Überprüft welche Fehler angegeben wurden\n",
    "    if (np.isnan(x_err).any() and np.isnan(y_err).any()):\n",
    "        data = RealData(x, y)\n",
    "    elif np.isnan(x_err).any():\n",
    "        data = RealData(x, y, sy=y_err)\n",
    "    elif np.isnan(y_err).any():\n",
    "        data = RealData(x, y, sx=x_err)\n",
    "    else:\n",
    "        data = RealData(x, y, sx=x_err, sy=y_err)\n",
    "    \n",
    "    #Führt den Fit aus, beta0 sind die Startwerte\n",
    "    odr = ODR(data, model, beta0=[6.,1.])\n",
    "    out = odr.run()\n",
    "    #out.beta beinhaltet die Parameter\n",
    "    #out.sd_beta beinhaltet die Fehler der Parameter\n",
    "    return out\n",
    "\n",
    "#U=600\n",
    "U=np.array([600,500])\n",
    "t2=np.array([1,1])\n",
    "t1=np.array([1,1])\n",
    "x=np.array([1,1])\n",
    "s=x/1.875*10**(-4)\n",
    "v1=s/t1\n",
    "v2=s/t2\n",
    "Q=(v1+v2)*np.sqrt(v1)/U*2*10**(-10)\n",
    "\n",
    "stepsize=1\n",
    "\n",
    "X=np.array([1,3,3,4,4,5,5,5,5,6,6,6,6,6,6,7,8,8,9,10]);\n",
    "\n",
    "bins=np.arange(min(X)-stepsize/2,max(X)+stepsize/1.5,stepsize)\n",
    "[n,binsh,ka]=plt.hist(X,bins=bins,density=True,edgecolor='black', linewidth=1.2)\n",
    "\n",
    "xf=np.arange(min(X),max(X)+1,stepsize)\n",
    "yf=n\n",
    "\n",
    "out=fit(xf,yf,np.nan,np.nan)\n",
    "\n",
    "x_p=np.linspace(min(X),max(X),1000)\n",
    "y_p=func(out.beta,x_p)\n",
    "f=plt.plot(x_p,y_p)\n",
    "plt.grid()\n",
    "out.pprint()\n",
    "print(out.beta[1]/np.sqrt(len(X)))"
   ]
  },
  {
   "cell_type": "code",
   "execution_count": null,
   "metadata": {},
   "outputs": [],
   "source": []
  }
 ],
 "metadata": {
  "kernelspec": {
   "display_name": "Python 3",
   "language": "python",
   "name": "python3"
  },
  "language_info": {
   "codemirror_mode": {
    "name": "ipython",
    "version": 3
   },
   "file_extension": ".py",
   "mimetype": "text/x-python",
   "name": "python",
   "nbconvert_exporter": "python",
   "pygments_lexer": "ipython3",
   "version": "3.8.3"
  }
 },
 "nbformat": 4,
 "nbformat_minor": 4
}
