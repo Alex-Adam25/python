{
 "cells": [
  {
   "cell_type": "code",
   "execution_count": 45,
   "metadata": {},
   "outputs": [
    {
     "name": "stdout",
     "output_type": "stream",
     "text": [
      "Beta: [2.9741139  1.32647526 5.985904   1.1766502  9.04039687 1.52897127]\n",
      "Beta Std Error: [0.31865835 0.36644598 0.31265476 0.28430128 0.36494526 0.51447342]\n",
      "Beta Covariance: [[ 1.11005523e+01  7.21496490e-01  5.32961754e-01 -3.59766269e-01\n",
      "   2.73189079e-02 -6.21678174e-02]\n",
      " [ 7.21496490e-01  1.46795895e+01  7.47014469e-01 -3.97846412e-01\n",
      "   4.58332452e-02 -9.95841745e-02]\n",
      " [ 5.32961754e-01  7.47014469e-01  1.06862192e+01  5.88733442e-01\n",
      "   1.09998905e+00 -2.15627048e+00]\n",
      " [-3.59766269e-01 -3.97846412e-01  5.88733442e-01  8.83591667e+00\n",
      "   6.83902482e-01 -1.14614723e+00]\n",
      " [ 2.73189079e-02  4.58332452e-02  1.09998905e+00  6.83902482e-01\n",
      "   1.45595999e+01 -5.59364633e-01]\n",
      " [-6.21678174e-02 -9.95841745e-02 -2.15627048e+00 -1.14614723e+00\n",
      "  -5.59364633e-01  2.89347593e+01]]\n",
      "Residual Variance: 0.009147575780001634\n",
      "Inverse Condition #: 0.6859320058774604\n",
      "Reason(s) for Halting:\n",
      "  Sum of squares convergence\n",
      "Beta: [3.00516022 1.36623102 6.19549147 0.19237312 9.05785816 1.64367372]\n",
      "Beta Std Error: [0.18889557 0.21073685 0.166431   0.         0.2790646  0.32268015]\n",
      "Beta Covariance: [[ 1.34211342e+01  2.43826210e-01  3.14955797e-04  0.00000000e+00\n",
      "   6.32348065e-05 -1.75024800e-04]\n",
      " [ 2.43826210e-01  1.67042374e+01  7.90529018e-04  0.00000000e+00\n",
      "   1.01488650e-04 -2.76669334e-04]\n",
      " [ 3.14955797e-04  7.90529018e-04  1.04187142e+01  0.00000000e+00\n",
      "  -6.38258078e-03  1.35704149e-02]\n",
      " [ 0.00000000e+00  0.00000000e+00  0.00000000e+00  0.00000000e+00\n",
      "   0.00000000e+00  0.00000000e+00]\n",
      " [ 6.32348065e-05  1.01488650e-04 -6.38258078e-03  0.00000000e+00\n",
      "   2.92924136e+01 -1.99152445e+00]\n",
      " [-1.75024800e-04 -2.76669334e-04  1.35704149e-02  0.00000000e+00\n",
      "  -1.99152445e+00  3.91642816e+01]]\n",
      "Residual Variance: 0.00265860811272033\n",
      "Inverse Condition #: 0.6545950450247728\n",
      "Reason(s) for Halting:\n",
      "  Problem is not full rank at solution\n",
      "  Sum of squares convergence\n"
     ]
    },
    {
     "data": {
      "image/png": "[encoded data removed]",
      "text/plain": [
       "<Figure size 432x288 with 1 Axes>"
      ]
     },
     "metadata": {
      "needs_background": "light"
     },
     "output_type": "display_data"
    }
   ],
   "source": [
    "#Benotigte Madule(inkl. in Anaconda)\n",
    "import numpy as np\n",
    "import matplotlib.pyplot as plt\n",
    "from scipy.odr import *\n",
    "import random\n",
    "from scipy.stats import norm\n",
    "\n",
    "import sys\n",
    "\n",
    "def gau(x,m,o):\n",
    "    return (1/np.sqrt(2*np.pi*o**2))*np.exp(-(x-m)**2/(o**2)*2)\n",
    "\n",
    "def func(B, x):\n",
    "    [m1,o1,m2,o2,m3,o3]=B\n",
    "    return gau(x,m1,o1)+gau(x,m2,o2)+gau(x,m3,o3)\n",
    "    \n",
    "def fit(x,y,x_err,y_err):\n",
    "    #definerit die zu fittene Funktion,in B sind die Parameter und x ist die unabhängige\n",
    "    model = Model(func)\n",
    "\n",
    "    #Überprüft welche Fehler angegeben wurden\n",
    "    if (np.isnan(x_err).any() and np.isnan(y_err).any()):\n",
    "        data = RealData(x, y)\n",
    "    elif np.isnan(x_err).any():\n",
    "        data = RealData(x, y, sy=y_err)\n",
    "    elif np.isnan(y_err).any():\n",
    "        data = RealData(x, y, sx=x_err)\n",
    "    else:\n",
    "        data = RealData(x, y, sx=x_err, sy=y_err)\n",
    "    \n",
    "    #Führt den Fit aus, beta0 sind die Startwerte\n",
    "    odr = ODR(data, model, beta0=[3., 1.,6., 1.,9., 1.])\n",
    "    out = odr.run()\n",
    "    #out.beta beinhaltet die Parameter\n",
    "    #out.sd_beta beinhaltet die Fehler der Parameter\n",
    "    return out\n",
    "\n",
    "#U=600\n",
    "U=np.array([600,500])\n",
    "t2=np.array([1,1])\n",
    "t1=np.array([1,1])\n",
    "x=np.array([1,1])\n",
    "s=x/1.875*10**(-4)\n",
    "v1=s/t1\n",
    "v2=s/t2\n",
    "Q=(v1+v2)*np.sqrt(v1)/U*2*10**(-10)\n",
    "\n",
    "stepsize=1\n",
    "\n",
    "X=np.array([1,2,3,3,3,3,3,4,6,6,6,6,6,8,9,9,9,9,10]);\n",
    "\n",
    "bins=np.arange(min(X)-stepsize/2,max(X)+stepsize/1.5,stepsize)\n",
    "[n,binsh,ka]=plt.hist(X,bins=bins,density=True,edgecolor='black', linewidth=1.2)\n",
    "\n",
    "xf=np.arange(min(X),max(X)+1,stepsize)\n",
    "yf=n\n",
    "x_err=np.linspace(1,5,len(xf))\n",
    "out=fit(xf,yf,np.nan,np.nan)\n",
    "outerr=fit(xf,yf,x_err,np.nan)\n",
    "\n",
    "x_p=np.linspace(min(X),max(X),1000)\n",
    "y_p=func(out.beta,x_p)\n",
    "f=plt.plot(x_p,y_p)\n",
    "plt.grid()\n",
    "out.pprint()\n",
    "outerr.pprint()"
   ]
  },
  {
   "cell_type": "code",
   "execution_count": 43,
   "metadata": {},
   "outputs": [
    {
     "data": {
      "text/plain": [
       "array([0.1])"
      ]
     },
     "execution_count": 43,
     "metadata": {},
     "output_type": "execute_result"
    }
   ],
   "source": [
    "x_err"
   ]
  }
 ],
 "metadata": {
  "kernelspec": {
   "display_name": "Python 3",
   "language": "python",
   "name": "python3"
  },
  "language_info": {
   "codemirror_mode": {
    "name": "ipython",
    "version": 3
   },
   "file_extension": ".py",
   "mimetype": "text/x-python",
   "name": "python",
   "nbconvert_exporter": "python",
   "pygments_lexer": "ipython3",
   "version": "3.8.3"
  }
 },
 "nbformat": 4,
 "nbformat_minor": 4
}
