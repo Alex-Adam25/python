{
 "cells": [
  {
   "cell_type": "code",
   "execution_count": 10,
   "metadata": {},
   "outputs": [
    {
     "name": "stdout",
     "output_type": "stream",
     "text": [
      "mu1/sigma1/mu2/sigma2/mu3/sigma3:\n",
      "[ 7.25546201  1.80622821 11.68190568  1.15283585 21.96863781  0.59662222]\n",
      "Fehler:\n",
      "[ 898.90848607 1905.115413      3.70545155    6.40265904    9.07970045\n",
      "    9.2113808 ]\n"
     ]
    },
    {
     "data": {
      "text/plain": [
       "Text(0.5, 0, '10^20')"
      ]
     },
     "execution_count": 10,
     "metadata": {},
     "output_type": "execute_result"
    },
    {
     "data": {
      "image/png": "[encoded data removed]",
      "text/plain": [
       "<Figure size 432x288 with 1 Axes>"
      ]
     },
     "metadata": {
      "needs_background": "light"
     },
     "output_type": "display_data"
    }
   ],
   "source": [
    "#Benotigte Madule(inkl. in Anaconda)\n",
    "import numpy as np\n",
    "import matplotlib.pyplot as plt\n",
    "from scipy.odr import *\n",
    "import random\n",
    "from scipy.stats import norm\n",
    "\n",
    "import sys\n",
    "\n",
    "#1. U;t1;t2;x ersetzen und ihre fehler\n",
    "#2. anzahl an gaußfunktionen wählen\n",
    "#3. Startwerte beta0 richtig wählen(vorallem die müs)\n",
    "#4. stepsize bzw binnabstand fürs histogram\n",
    "\n",
    "\n",
    "def gau(x,m,o):\n",
    "    return (1/np.sqrt(2*np.pi*o**2))*np.exp(-(x-m)**2/(o**2)*2)\n",
    "\n",
    "def func(B, x):\n",
    "    [m1,o1,m2,o2,m3,o3]=B\n",
    "    return gau(x,m1,o1)+gau(x,m2,o2)+gau(x,m3,o3)\n",
    "    \n",
    "def fit(x,y,x_err,y_err):\n",
    "    #definerit die zu fittene Funktion,in B sind die Parameter und x ist die unabhängige\n",
    "    model = Model(func)\n",
    "\n",
    "    #Überprüft welche Fehler angegeben wurden\n",
    "    if (np.isnan(x_err).any() and np.isnan(y_err).any()):\n",
    "        data = RealData(x, y)\n",
    "    elif np.isnan(x_err).any():\n",
    "        data = RealData(x, y, sy=y_err)\n",
    "    elif np.isnan(y_err).any():\n",
    "        data = RealData(x, y, sx=x_err)\n",
    "    else:\n",
    "        data = RealData(x, y, sx=x_err, sy=y_err)\n",
    "    \n",
    "    #Führt den Fit aus, beta0 sind die Startwerte\n",
    "    odr = ODR(data, model, beta0=[7., 1.,12., 1.,22., 1.])\n",
    "    out = odr.run()\n",
    "    #out.beta beinhaltet die Parameter\n",
    "    #out.sd_beta beinhaltet die Fehler der Parameter\n",
    "    return out\n",
    "\n",
    "#Spannung\n",
    "U=np.array([496,494,493,493,493,492,491,491,495,497,497,497,497])\n",
    "\n",
    "U_fehler=1\n",
    "U_err=np.full(len(U),U_fehler)\n",
    "\n",
    "#Zeit:\n",
    "t2=np.array([3.59,\n",
    "             2.68,\n",
    "             5.74,\n",
    "             4.17,\n",
    "             2.38,\n",
    "            3.57,\n",
    "            3.53,\n",
    "            7.72,\n",
    "            3.12,\n",
    "            2.09,\n",
    "            1.49,\n",
    "            2.03,\n",
    "            2.03])\n",
    "t1=np.array([22.16,\n",
    "             22.05,\n",
    "             5.24,\n",
    "             32.58,\n",
    "             24.69,\n",
    "            32.95,\n",
    "            33.94,\n",
    "            14.92,\n",
    "            34.78,\n",
    "            83.15,\n",
    "            27.44,\n",
    "            54.09,\n",
    "            50.33])\n",
    "\n",
    "\n",
    "t_fehler=0.1\n",
    "t_err=np.full(len(t1),t_fehler)\n",
    "t1_err=t2_err=t_err\n",
    "if len(U)!=len(t1):\n",
    "    U=np.full(len(t1),491)\n",
    "    U_err=np.full(len(U),U_fehler)\n",
    "\n",
    "\n",
    "#Strecke; x ist gemessen durchs Mikroskop; s ist umgerechnet in den Realen wert\n",
    "x=np.array([1,1])\n",
    "x=np.full(len(t1),2)\n",
    "\n",
    "x_fehler=0.1\n",
    "x_err=np.full(len(x),x_fehler)\n",
    "\n",
    "#Position\n",
    "z=1.875 #zoom\n",
    "\n",
    "z_err=1.875*0.01\n",
    "s=x/z*10**(-3)\n",
    "s_err=np.sqrt((1/z*10**(-4)*x_err)**2+\n",
    "              (x*10**(-4)*z_err/z**2)**2)\n",
    "\n",
    "#Geschwindigkeit\n",
    "v1=s/t1\n",
    "v1_err=np.sqrt((s_err/t1)**2+(s*t1_err/t1**2)**2)\n",
    "v2=s/t2\n",
    "v2_err=np.sqrt((s_err/t2)**2+(s*t2_err/t2**2)**2)\n",
    "\n",
    "\n",
    "eta=1.81*10**(-5)\n",
    "d=6*10**(-3)\n",
    "poel=875.3\n",
    "pl=1.29\n",
    "p=874\n",
    "p_err=0\n",
    "g=9.81\n",
    "\n",
    "Q=(v1+v2)*np.sqrt(v1)/U*eta**(3/2)*18*np.pi*d/np.sqrt(2*p*g)\n",
    "q=Q\n",
    "Q=Q*10**19\n",
    "#Als BSP\n",
    "#Q=np.array([1,2,2,2,3,3,3,3,3,4,6,6,6,6,6,8,9,9,9,9,10]);\n",
    "\n",
    "\n",
    "Q_err=9*np.pi*d*eta**(3/2)/np.sqrt(g*p)*np.sqrt(((3*v1+v2)/(U*np.sqrt(2*v1))*v1_err)**2+\n",
    "                                                (np.sqrt(2*v1)/U*v2_err)**2+\n",
    "                                                (np.sqrt(2*v1)*(v1+v2)/U**2*U_err)**2)\n",
    "#Als BSP:\n",
    "Q_err=np.nan\n",
    "\n",
    "\n",
    "\n",
    "\n",
    "#Anpassen für schönnes Histogramm\n",
    "stepsize=2\n",
    "\n",
    "#Histogramm erstellen\n",
    "bins=np.arange(min(Q)-stepsize/2,max(Q)+stepsize/1.5,stepsize)\n",
    "[n,binsh,ka]=plt.hist(Q,bins=bins,density=True,edgecolor='black', linewidth=1.2)\n",
    "\n",
    "\n",
    "#Fit erstellen\n",
    "xf=bins+stepsize/2\n",
    "xf=xf[:-1]\n",
    "yf=n\n",
    "\n",
    "out=fit(xf,yf,np.nan,np.nan)\n",
    "\n",
    "#Fit-Funktionswerte Berechnen\n",
    "x_p=np.linspace(bins[0],max(Q),1000)\n",
    "y_p=func(out.beta,x_p)\n",
    "\n",
    "#Plotten\n",
    "f=plt.plot(x_p,y_p)\n",
    "plt.grid()\n",
    "\n",
    "\n",
    "#Für die Korektur:\n",
    "#welches eta? \n",
    "r=np.sqrt(9*eta*v1/(2*p*g))\n",
    "#r_err überprüfen\n",
    "r_err=1/(2*np.sqrt(9*eta*v1/(2*p*g)))*9*eta/(2*p*g)*v1_err\n",
    "#xk=1/(p*r)\n",
    "#yk=Q**(2/3)\n",
    "\n",
    "#xk_err=np.sqrt((r_err/(r**2*p))**2+(p_err/(p**2*r))**2)\n",
    "#yk_err=2/(3*Q**(1/3))*Q_err\n",
    "\n",
    "\n",
    "\n",
    "#def func(B, x):\n",
    "#    [b,y0]=B\n",
    "#    return y0*(1+b*x)\n",
    "\n",
    "#out=fit(xk,yk,np.nan,yk_err)\n",
    "\n",
    "\n",
    "\n",
    "print(\"mu1/sigma1/mu2/sigma2/mu3/sigma3:\")\n",
    "print(out.beta)\n",
    "print(\"Fehler:\")\n",
    "print(out.sd_beta)\n",
    "plt.xlabel(\"10^20\")"
   ]
  },
  {
   "cell_type": "code",
   "execution_count": 12,
   "metadata": {},
   "outputs": [
    {
     "data": {
      "text/plain": [
       "array([9.63553498e-19, 1.25394602e-18, 2.24841232e-18, 6.68154822e-19,\n",
       "       1.30710990e-18, 7.64088529e-19, 7.59957135e-19, 7.20366907e-19,\n",
       "       8.31599862e-19, 7.52275198e-19, 1.88911751e-18, 9.71894494e-19,\n",
       "       1.01026702e-18])"
      ]
     },
     "execution_count": 12,
     "metadata": {},
     "output_type": "execute_result"
    }
   ],
   "source": [
    "q"
   ]
  },
  {
   "cell_type": "code",
   "execution_count": 11,
   "metadata": {},
   "outputs": [
    {
     "data": {
      "text/plain": [
       "array([0.19230769, 0.07692308, 0.07692308, 0.07692308, 0.        ,\n",
       "       0.        , 0.03846154, 0.        , 0.03846154])"
      ]
     },
     "execution_count": 11,
     "metadata": {},
     "output_type": "execute_result"
    }
   ],
   "source": [
    "n"
   ]
  },
  {
   "cell_type": "code",
   "execution_count": 13,
   "metadata": {},
   "outputs": [
    {
     "data": {
      "text/plain": [
       "array([ 6.68154822,  8.68154822, 10.68154822, 12.68154822, 14.68154822,\n",
       "       16.68154822, 18.68154822, 20.68154822])"
      ]
     },
     "execution_count": 13,
     "metadata": {},
     "output_type": "execute_result"
    }
   ],
   "source": [
    "xf[:-1]"
   ]
  },
  {
   "cell_type": "code",
   "execution_count": 3,
   "metadata": {},
   "outputs": [
    {
     "data": {
      "text/plain": [
       "13"
      ]
     },
     "execution_count": 3,
     "metadata": {},
     "output_type": "execute_result"
    }
   ],
   "source": [
    "len(t2)"
   ]
  }
 ],
 "metadata": {
  "kernelspec": {
   "display_name": "Python 3",
   "language": "python",
   "name": "python3"
  },
  "language_info": {
   "codemirror_mode": {
    "name": "ipython",
    "version": 3
   },
   "file_extension": ".py",
   "mimetype": "text/x-python",
   "name": "python",
   "nbconvert_exporter": "python",
   "pygments_lexer": "ipython3",
   "version": "3.8.3"
  }
 },
 "nbformat": 4,
 "nbformat_minor": 4
}
