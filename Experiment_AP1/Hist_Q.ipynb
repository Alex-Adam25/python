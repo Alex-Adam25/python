{
 "cells": [
  {
   "cell_type": "code",
   "execution_count": 21,
   "metadata": {},
   "outputs": [
    {
     "name": "stdout",
     "output_type": "stream",
     "text": [
      "mu1/sigma1/mu2/sigma2/mu3/sigma3:\n",
      "[2.97825787 1.33135949 6.02208924 1.19594099 9.08989143 1.52581429]\n",
      "Fehler:\n",
      "[0.3160237  0.35474788 0.34387196 0.28668731 0.39722694 0.50417138]\n"
     ]
    },
    {
     "data": {
      "image/png": "[encoded data removed]",
      "text/plain": [
       "<Figure size 432x288 with 1 Axes>"
      ]
     },
     "metadata": {
      "needs_background": "light"
     },
     "output_type": "display_data"
    }
   ],
   "source": [
    "#Benotigte Madule(inkl. in Anaconda)\n",
    "import numpy as np\n",
    "import matplotlib.pyplot as plt\n",
    "from scipy.odr import *\n",
    "import random\n",
    "from scipy.stats import norm\n",
    "\n",
    "import sys\n",
    "\n",
    "def gau(x,m,o):\n",
    "    return (1/np.sqrt(2*np.pi*o**2))*np.exp(-(x-m)**2/(o**2)*2)\n",
    "\n",
    "def func(B, x):\n",
    "    [m1,o1,m2,o2,m3,o3]=B\n",
    "    return gau(x,m1,o1)+gau(x,m2,o2)+gau(x,m3,o3)\n",
    "    \n",
    "def fit(x,y,x_err,y_err):\n",
    "    #definerit die zu fittene Funktion,in B sind die Parameter und x ist die unabhängige\n",
    "    model = Model(func)\n",
    "\n",
    "    #Überprüft welche Fehler angegeben wurden\n",
    "    if (np.isnan(x_err).any() and np.isnan(y_err).any()):\n",
    "        data = RealData(x, y)\n",
    "    elif np.isnan(x_err).any():\n",
    "        data = RealData(x, y, sy=y_err)\n",
    "    elif np.isnan(y_err).any():\n",
    "        data = RealData(x, y, sx=x_err)\n",
    "    else:\n",
    "        data = RealData(x, y, sx=x_err, sy=y_err)\n",
    "    \n",
    "    #Führt den Fit aus, beta0 sind die Startwerte\n",
    "    odr = ODR(data, model, beta0=[3., 1.,6., 1.,9., 1.])\n",
    "    out = odr.run()\n",
    "    #out.beta beinhaltet die Parameter\n",
    "    #out.sd_beta beinhaltet die Fehler der Parameter\n",
    "    return out\n",
    "\n",
    "#Spannung\n",
    "U=np.array([600,500])\n",
    "U_fehler=1\n",
    "U_err=np.full(len(U),U_fehler)\n",
    "\n",
    "#Zeit:\n",
    "t2=np.array([1,1])\n",
    "t1=np.array([1,1])\n",
    "t_fehler=0.1\n",
    "t_err=np.full(len(t1),t_fehler)\n",
    "\n",
    "#Strecke; x ist gemessen durchs Mikroskop; s ist umgerechnet in den Realen wert\n",
    "x=np.array([1,1])\n",
    "x_fehler=0.1\n",
    "x_err=np.full(len(x),x_fehler)\n",
    "\n",
    "#Position\n",
    "z=1.875 #zoom\n",
    "z_err=1.875*0.01\n",
    "s=x/z*10**(-4)\n",
    "s_err=np.sqrt((1/z*10**(-4)*x_err)**2+\n",
    "              (x*10**(-4)*z_err/z**2)**2)\n",
    "\n",
    "#Geschwindigkeit\n",
    "v1=s/t1\n",
    "v1_err=[]\n",
    "v2=s/t2\n",
    "v2_err=[]\n",
    "\n",
    "\n",
    "Q=(v1+v2)*np.sqrt(v1)/U*2*10**(-10)\n",
    "#Als BSP\n",
    "Q=np.array([1,2,3,3,3,3,3,4,6,6,6,6,6,8,9,9,9,9,10]);\n",
    "\n",
    "Q_err=[]\n",
    "#Als BSP:\n",
    "Q_err=np.linspace(1,5,len(Q))\n",
    "\n",
    "#Anpassen für schönnes Histogramm\n",
    "stepsize=1\n",
    "\n",
    "#Histogramm erstellen\n",
    "bins=np.arange(min(Q)-stepsize/2,max(Q)+stepsize/1.5,stepsize)\n",
    "[n,binsh,ka]=plt.hist(Q,bins=bins,density=True,edgecolor='black', linewidth=1.2)\n",
    "\n",
    "\n",
    "#Fit erstellen\n",
    "xf=np.arange(min(Q),max(Q)+1,stepsize)\n",
    "yf=n\n",
    "\n",
    "out=fit(xf,yf,Q_err,np.nan)\n",
    "\n",
    "#Fit-Funktionswerte Berechnen\n",
    "x_p=np.linspace(min(Q),max(Q),1000)\n",
    "y_p=func(out.beta,x_p)\n",
    "\n",
    "#Plotten\n",
    "f=plt.plot(x_p,y_p)\n",
    "plt.grid()\n",
    "\n",
    "print(\"mu1/sigma1/mu2/sigma2/mu3/sigma3:\")\n",
    "print(out.beta)\n",
    "print(\"Fehler:\")\n",
    "print(out.sd_beta)"
   ]
  }
 ],
 "metadata": {
  "kernelspec": {
   "display_name": "Python 3",
   "language": "python",
   "name": "python3"
  },
  "language_info": {
   "codemirror_mode": {
    "name": "ipython",
    "version": 3
   },
   "file_extension": ".py",
   "mimetype": "text/x-python",
   "name": "python",
   "nbconvert_exporter": "python",
   "pygments_lexer": "ipython3",
   "version": "3.8.3"
  }
 },
 "nbformat": 4,
 "nbformat_minor": 4
}
