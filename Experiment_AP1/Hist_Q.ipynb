{
 "cells": [
  {
   "cell_type": "code",
   "execution_count": 3,
   "metadata": {},
   "outputs": [
    {
     "name": "stdout",
     "output_type": "stream",
     "text": [
      "mu1/sigma1/mu2/sigma2/mu3/sigma3:\n",
      "[2. 1. 6. 1. 9. 1.]\n",
      "Fehler:\n",
      "[0.00000000e+00 2.32867483e+20 0.00000000e+00 0.00000000e+00\n",
      " 0.00000000e+00 0.00000000e+00]\n"
     ]
    },
    {
     "data": {
      "image/png": "[encoded data removed]",
      "text/plain": [
       "<Figure size 432x288 with 1 Axes>"
      ]
     },
     "metadata": {
      "needs_background": "light"
     },
     "output_type": "display_data"
    }
   ],
   "source": [
    "#Benotigte Madule(inkl. in Anaconda)\n",
    "import numpy as np\n",
    "import matplotlib.pyplot as plt\n",
    "from scipy.odr import *\n",
    "import random\n",
    "from scipy.stats import norm\n",
    "\n",
    "import sys\n",
    "\n",
    "def gau(x,m,o):\n",
    "    return (1/np.sqrt(2*np.pi*o**2))*np.exp(-(x-m)**2/(o**2)*2)\n",
    "\n",
    "def func(B, x):\n",
    "    [m1,o1,m2,o2,m3,o3]=B\n",
    "    return gau(x,m1,o1)+gau(x,m2,o2)+gau(x,m3,o3)\n",
    "    \n",
    "def fit(x,y,x_err,y_err):\n",
    "    #definerit die zu fittene Funktion,in B sind die Parameter und x ist die unabhängige\n",
    "    model = Model(func)\n",
    "\n",
    "    #Überprüft welche Fehler angegeben wurden\n",
    "    if (np.isnan(x_err).any() and np.isnan(y_err).any()):\n",
    "        data = RealData(x, y)\n",
    "    elif np.isnan(x_err).any():\n",
    "        data = RealData(x, y, sy=y_err)\n",
    "    elif np.isnan(y_err).any():\n",
    "        data = RealData(x, y, sx=x_err)\n",
    "    else:\n",
    "        data = RealData(x, y, sx=x_err, sy=y_err)\n",
    "    \n",
    "    #Führt den Fit aus, beta0 sind die Startwerte\n",
    "    odr = ODR(data, model, beta0=[2., 1.,6., 1.,9., 1.])\n",
    "    out = odr.run()\n",
    "    #out.beta beinhaltet die Parameter\n",
    "    #out.sd_beta beinhaltet die Fehler der Parameter\n",
    "    return out\n",
    "\n",
    "#Spannung\n",
    "U=np.array([600,500])\n",
    "U_fehler=1\n",
    "U_err=np.full(len(U),U_fehler)\n",
    "\n",
    "#Zeit:\n",
    "t2=np.array([1,1])\n",
    "t1=np.array([1,1])\n",
    "t_fehler=0.1\n",
    "t_err=np.full(len(t1),t_fehler)\n",
    "t1_err=t2_err=t_err\n",
    "\n",
    "#Strecke; x ist gemessen durchs Mikroskop; s ist umgerechnet in den Realen wert\n",
    "x=np.array([1,1])\n",
    "x_fehler=0.1\n",
    "x_err=np.full(len(x),x_fehler)\n",
    "\n",
    "#Position\n",
    "z=1.875 #zoom\n",
    "z_err=1.875*0.01\n",
    "s=x/z*10**(-4)\n",
    "s_err=np.sqrt((1/z*10**(-4)*x_err)**2+\n",
    "              (x*10**(-4)*z_err/z**2)**2)\n",
    "\n",
    "#Geschwindigkeit\n",
    "v1=s/t1\n",
    "v1_err=np.sqrt((s_err/t1)**2+(s*t1_err/t1**2)**2)\n",
    "v2=s/t2\n",
    "v2_err=np.sqrt((s_err/t2)**2+(s*t2_err/t2**2)**2)\n",
    "\n",
    "\n",
    "eta=1.81*10**(-5)\n",
    "d=6*10**(-3)\n",
    "poel=875.3\n",
    "pl=1.29\n",
    "p=875\n",
    "g=9.81\n",
    "\n",
    "Q=(v1+v2)*np.sqrt(v1)/U*eta**(3/2)*18*np.pi*d/np.sqrt(2*p*g)\n",
    "#Als BSP\n",
    "Q=np.array([1,2,3,3,3,3,3,4,6,6,6,6,6,8,9,9,9,9,10])*10**(-19);\n",
    "\n",
    "\n",
    "Q_err=9*np.pi*d*eta**(3/2)/np.sqrt(g*p)*np.sqrt(((3*v1+v2)/(U*np.sqrt(2*v1))*v1_err)**2+\n",
    "                                                (np.sqrt(2*v1)/U*v2_err)**2+\n",
    "                                                (np.sqrt(2*v1)*(v1+v2)/U**2*U_err)**2)\n",
    "#Als BSP:\n",
    "Q_err=np.nan\n",
    "\n",
    "\n",
    "\n",
    "\n",
    "#Anpassen für schönnes Histogramm\n",
    "stepsize=max(Q)/10\n",
    "\n",
    "#Histogramm erstellen\n",
    "bins=np.arange(min(Q)-stepsize/2,max(Q)+stepsize/1.5,stepsize)\n",
    "[n,binsh,ka]=plt.hist(Q,bins=bins,density=True,edgecolor='black', linewidth=1.2)\n",
    "\n",
    "\n",
    "#Fit erstellen\n",
    "xf=np.arange(min(Q),max(Q)+stepsize,stepsize)\n",
    "yf=n\n",
    "\n",
    "out=fit(xf,yf,Q_err,np.nan)\n",
    "\n",
    "#Fit-Funktionswerte Berechnen\n",
    "x_p=np.linspace(min(Q),max(Q),1000)\n",
    "y_p=func(out.beta,x_p)\n",
    "\n",
    "#Plotten\n",
    "f=plt.plot(x_p,y_p)\n",
    "plt.grid()\n",
    "\n",
    "print(\"mu1/sigma1/mu2/sigma2/mu3/sigma3:\")\n",
    "print(out.beta)\n",
    "print(\"Fehler:\")\n",
    "print(out.sd_beta)"
   ]
  },
  {
   "cell_type": "code",
   "execution_count": 4,
   "metadata": {},
   "outputs": [
    {
     "data": {
      "text/plain": [
       "array([5.26315789e+17, 5.26315789e+17, 2.63157895e+18, 5.26315789e+17,\n",
       "       0.00000000e+00, 2.63157895e+18, 0.00000000e+00, 5.26315789e+17,\n",
       "       2.10526316e+18, 5.26315789e+17])"
      ]
     },
     "execution_count": 4,
     "metadata": {},
     "output_type": "execute_result"
    }
   ],
   "source": [
    "n"
   ]
  }
 ],
 "metadata": {
  "kernelspec": {
   "display_name": "Python 3",
   "language": "python",
   "name": "python3"
  },
  "language_info": {
   "codemirror_mode": {
    "name": "ipython",
    "version": 3
   },
   "file_extension": ".py",
   "mimetype": "text/x-python",
   "name": "python",
   "nbconvert_exporter": "python",
   "pygments_lexer": "ipython3",
   "version": "3.8.3"
  }
 },
 "nbformat": 4,
 "nbformat_minor": 4
}
