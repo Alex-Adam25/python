{
 "cells": [
  {
   "cell_type": "code",
   "execution_count": 86,
   "metadata": {},
   "outputs": [
    {
     "name": "stdout",
     "output_type": "stream",
     "text": [
      "Spannung längenanpassung\n",
      "16\n",
      "60\n",
      "mu1/sigma1/mu2/sigma2/mu3/sigma3:\n",
      "[ 4.27394628e+00  5.00141692e-01  8.15907566e+00  2.91942173e+01\n",
      "  1.26857510e+01  4.99990080e-01 -7.90599648e+04  2.29037896e+03\n",
      "  6.32946238e+00 -4.26842726e+01]\n",
      "Fehler:\n",
      "[3.90425387e+08 3.98745534e+08 9.27573587e+01 1.06643269e+02\n",
      " 2.13722736e+08 2.18960174e+08 0.00000000e+00 0.00000000e+00\n",
      " 1.38928254e+02 2.55606107e+02]\n"
     ]
    },
    {
     "data": {
      "text/plain": [
       "Text(0.5, 0, '10^19')"
      ]
     },
     "execution_count": 86,
     "metadata": {},
     "output_type": "execute_result"
    },
    {
     "data": {
      "image/png": "[encoded data removed]",
      "text/plain": [
       "<Figure size 432x288 with 1 Axes>"
      ]
     },
     "metadata": {
      "needs_background": "light"
     },
     "output_type": "display_data"
    }
   ],
   "source": [
    "#Benotigte Madule(inkl. in Anaconda)\n",
    "import numpy as np\n",
    "import matplotlib.pyplot as plt\n",
    "from scipy.odr import *\n",
    "import random\n",
    "from scipy.stats import norm\n",
    "\n",
    "import sys\n",
    "\n",
    "#1. U;t1;t2;x ersetzen und ihre fehler\n",
    "#2. anzahl an gaußfunktionen wählen\n",
    "#3. Startwerte beta0 richtig wählen(vorallem die müs)\n",
    "#4. stepsize bzw binnabstand fürs histogram\n",
    "\n",
    "\n",
    "def gau(x,m,o):\n",
    "    return (1/np.sqrt(2*np.pi*o**2))*np.exp(-(x-m)**2/(o**2)*2)\n",
    "\n",
    "def func(B, x):\n",
    "    [m1,o1,m2,o2,m3,o3,m4,o4,m5,o5]=B\n",
    "    return gau(x,m1,o1)+gau(x,m2,o2)+gau(x,m3,o3)+gau(x,m4,o4)+gau(x,m5,o5)\n",
    "    \n",
    "def fit(x,y,x_err,y_err):\n",
    "    #definerit die zu fittene Funktion,in B sind die Parameter und x ist die unabhängige\n",
    "    model = Model(func)\n",
    "\n",
    "    #Überprüft welche Fehler angegeben wurden\n",
    "    if (np.isnan(x_err).any() and np.isnan(y_err).any()):\n",
    "        data = RealData(x, y)\n",
    "    elif np.isnan(x_err).any():\n",
    "        data = RealData(x, y, sy=y_err)\n",
    "    elif np.isnan(y_err).any():\n",
    "        data = RealData(x, y, sx=x_err)\n",
    "    else:\n",
    "        data = RealData(x, y, sx=x_err, sy=y_err)\n",
    "    \n",
    "    #Führt den Fit aus, beta0 sind die Startwerte\n",
    "    odr = ODR(data, model, beta0=[4.,0.5,9., 0.5,13., 0.5,19.,0.5,31,0.5])\n",
    "    out = odr.run()\n",
    "    #out.beta beinhaltet die Parameter\n",
    "    #out.sd_beta beinhaltet die Fehler der Parameter\n",
    "    return out\n",
    "\n",
    "#Spannung\n",
    "U=np.array([496,494,493,493,493,492,491,491,495,497,497,497,497,497,497,496])\n",
    "\n",
    "U_fehler=1\n",
    "U_err=np.full(len(U),U_fehler)\n",
    "\n",
    "#Zeit:\n",
    "t2=np.array([3.59,2.68,5.74,4.17,2.38,3.57,3.53,7.72,3.12,2.09,1.49,2.03,2.03,1.2,1.28,2.12,\n",
    "            1.90,7.20,7.62,2.77,1.84,2.12,2.08,1.89,3.59,3.89,4.14,5.39,41.69,3.92,2.93,1.83,6.64,1.63,2.29,9.37,3.05,7.76,6.92,4.03,7.44,\n",
    "            3.23,4.21,2.11,9.00,6.51,2.86,3.24,2.26,8.73,7.32,3.44,4.38,8.75,5.60,4.03,3.78,2.35,4.75,3.02])\n",
    "t1=np.array([22.16,22.05,5.24,32.58,24.69,32.95,33.94,14.92,34.78,83.15,27.44,54.09,50.33,7.29,25.89,36.08,\n",
    "            9.33,28.60,27.48,46.90,17.89,26.28,26.36,21.60,9.70,14.43,14.80,22.48,13.70,28.81,16.22,21.24,28.76,17.86,59.12,23.59,11.14,13.41,10.20,25.01,3.30,\n",
    "            8.08,30.05,9.08,25.23,39.53,16.67,16.89,29.22,26.89,31.92,27.61,11.26,16.86,3.95,4.58,5.23,26.39,55.28,14.13])\n",
    "\n",
    "\n",
    "t_fehler=0.1\n",
    "t_err=np.full(len(t1),t_fehler)\n",
    "t1_err=t2_err=t_err\n",
    "\n",
    "if len(U)!=len(t1):\n",
    "    print(\"Spannung längenanpassung\")\n",
    "    print(len(U))\n",
    "    print(len(t1))\n",
    "    U=np.full(len(t1),495)\n",
    "    U_err=np.full(len(U),U_fehler)\n",
    "\n",
    "\n",
    "#Strecke; x ist gemessen durchs Mikroskop; s ist umgerechnet in den Realen wert\n",
    "x=np.array([1,1])\n",
    "x=np.full(len(t1),2)\n",
    "\n",
    "x_fehler=0.1\n",
    "x_err=np.full(len(x),x_fehler)\n",
    "\n",
    "#Position\n",
    "z=1.875 #zoom\n",
    "\n",
    "z_err=1.875*0.01\n",
    "s=x/z*10**(-3)\n",
    "s_err=np.sqrt((1/z*10**(-4)*x_err)**2+\n",
    "              (x*10**(-4)*z_err/z**2)**2)\n",
    "\n",
    "#Geschwindigkeit\n",
    "v1=s/t1\n",
    "v1_err=np.sqrt((s_err/t1)**2+(s*t1_err/t1**2)**2)\n",
    "v2=s/t2\n",
    "v2_err=np.sqrt((s_err/t2)**2+(s*t2_err/t2**2)**2)\n",
    "\n",
    "\n",
    "eta=1.81*10**(-5)\n",
    "d=6*10**(-3)\n",
    "poel=875.3\n",
    "pl=1.29\n",
    "p=874\n",
    "p_err=0\n",
    "g=9.81\n",
    "\n",
    "Q=(v1+v2)*np.sqrt(v1)/U*eta**(3/2)*18*np.pi*d/np.sqrt(2*p*g)\n",
    "q=Q\n",
    "Q=Q*10**19\n",
    "#Als BSP\n",
    "#Q=np.array([1,2,2,2,3,3,3,3,3,4,6,6,6,6,6,8,9,9,9,9,10]);\n",
    "\n",
    "\n",
    "Q_err=9*np.pi*d*eta**(3/2)/np.sqrt(g*p)*np.sqrt(((3*v1+v2)/(U*np.sqrt(2*v1))*v1_err)**2+\n",
    "                                                (np.sqrt(2*v1)/U*v2_err)**2+\n",
    "                                                (np.sqrt(2*v1)*(v1+v2)/U**2*U_err)**2)\n",
    "#Als BSP:\n",
    "Q_err=np.nan\n",
    "\n",
    "\n",
    "\n",
    "\n",
    "#Anpassen für schönnes Histogramm\n",
    "stepsize=2.4\n",
    "\n",
    "#Histogramm erstellen\n",
    "\n",
    "bins=np.arange(min(Q)-stepsize/2,max(Q)+stepsize/1.5,stepsize)\n",
    "[n,binsh,ka]=plt.hist(Q,bins=bins,density=True,edgecolor='black', linewidth=1.2)\n",
    "plt.title(stepsize)\n",
    "\n",
    "#Fit erstellen\n",
    "xf=bins+stepsize/2\n",
    "xf=xf[:-1]\n",
    "yf=n\n",
    "\n",
    "out=fit(xf,yf,np.nan,np.nan)\n",
    "\n",
    "#Fit-Funktionswerte Berechnen\n",
    "x_p=np.linspace(bins[0],max(Q),5000)\n",
    "y_p=func(out.beta,x_p)\n",
    "\n",
    "#Plotten\n",
    "#f=plt.plot(x_p,y_p)\n",
    "plt.grid()\n",
    "plt.xlim(0,36)\n",
    "\n",
    "#Für die Korektur:\n",
    "#welches eta? \n",
    "r=np.sqrt(9*eta*v1/(2*p*g))\n",
    "#r_err überprüfen\n",
    "r_err=1/(2*np.sqrt(9*eta*v1/(2*p*g)))*9*eta/(2*p*g)*v1_err\n",
    "#xk=1/(p*r)\n",
    "#yk=Q**(2/3)\n",
    "\n",
    "#xk_err=np.sqrt((r_err/(r**2*p))**2+(p_err/(p**2*r))**2)\n",
    "#yk_err=2/(3*Q**(1/3))*Q_err\n",
    "\n",
    "\n",
    "\n",
    "#def func(B, x):\n",
    "#    [b,y0]=B\n",
    "#    return y0*(1+b*x)\n",
    "\n",
    "#out=fit(xk,yk,np.nan,yk_err)\n",
    "\n",
    "\n",
    "\n",
    "print(\"mu1/sigma1/mu2/sigma2/mu3/sigma3:\")\n",
    "print(out.beta)\n",
    "print(\"Fehler:\")\n",
    "print(out.sd_beta)\n",
    "plt.xlabel(\"10^19\")\n"
   ]
  },
  {
   "cell_type": "code",
   "execution_count": 59,
   "metadata": {},
   "outputs": [
    {
     "data": {
      "text/plain": [
       "array([9.65500070e-19, 1.25141279e-18, 2.23932782e-18, 6.65455207e-19,\n",
       "       1.30182864e-18, 7.59457689e-19, 7.53816067e-19, 7.14545760e-19,\n",
       "       8.31599862e-19, 7.55314694e-19, 1.89675031e-18, 9.75821340e-19,\n",
       "       1.01434890e-18, 5.04730223e-18, 2.26258942e-18, 1.16748650e-18,\n",
       "       2.91224460e-18, 4.56484084e-19, 4.49005036e-19, 7.83933613e-19,\n",
       "       1.98983887e-18, 1.39626740e-18, 1.41864035e-18, 1.73846017e-18,\n",
       "       1.72066803e-18, 1.20642556e-18, 1.12826527e-18, 6.81205118e-19,\n",
       "       3.67911005e-19, 7.58174564e-19, 1.40491174e-18, 1.80837667e-18,\n",
       "       4.85373453e-19, 2.22446825e-18, 8.28373383e-19, 4.31101824e-19,\n",
       "       1.75702900e-18, 7.80081770e-19, 1.06640351e-18, 8.08993789e-19,\n",
       "       3.38130693e-18, 2.14075615e-18, 6.93685645e-19, 2.72171732e-18,\n",
       "       4.21417603e-19, 3.99565759e-19, 1.40882474e-18, 1.25683553e-18,\n",
       "       1.23831213e-18, 4.10882484e-19, 4.17395491e-19, 8.73630346e-19,\n",
       "       1.32702533e-18, 5.93662107e-19, 3.05030917e-18, 3.06072314e-18,\n",
       "       2.79836665e-18, 1.26672976e-18, 4.31764410e-19, 1.50130212e-18])"
      ]
     },
     "execution_count": 59,
     "metadata": {},
     "output_type": "execute_result"
    }
   ],
   "source": [
    "q"
   ]
  },
  {
   "cell_type": "code",
   "execution_count": 61,
   "metadata": {},
   "outputs": [
    {
     "data": {
      "text/plain": [
       "array([0.06410256, 0.04487179, 0.07051282, 0.05128205, 0.04487179,\n",
       "       0.01923077, 0.01923077, 0.02564103, 0.        , 0.01282051,\n",
       "       0.01923077, 0.        , 0.00641026, 0.        , 0.        ,\n",
       "       0.        , 0.        , 0.        , 0.00641026])"
      ]
     },
     "execution_count": 61,
     "metadata": {},
     "output_type": "execute_result"
    }
   ],
   "source": [
    "n"
   ]
  },
  {
   "cell_type": "code",
   "execution_count": 52,
   "metadata": {},
   "outputs": [
    {
     "data": {
      "text/plain": [
       "41"
      ]
     },
     "execution_count": 52,
     "metadata": {},
     "output_type": "execute_result"
    }
   ],
   "source": [
    "len(t2)"
   ]
  },
  {
   "cell_type": "code",
   "execution_count": 50,
   "metadata": {},
   "outputs": [
    {
     "data": {
      "text/plain": [
       "20"
      ]
     },
     "execution_count": 50,
     "metadata": {},
     "output_type": "execute_result"
    }
   ],
   "source": []
  }
 ],
 "metadata": {
  "kernelspec": {
   "display_name": "Python 3",
   "language": "python",
   "name": "python3"
  },
  "language_info": {
   "codemirror_mode": {
    "name": "ipython",
    "version": 3
   },
   "file_extension": ".py",
   "mimetype": "text/x-python",
   "name": "python",
   "nbconvert_exporter": "python",
   "pygments_lexer": "ipython3",
   "version": "3.8.3"
  }
 },
 "nbformat": 4,
 "nbformat_minor": 4
}
