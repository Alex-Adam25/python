{
 "cells": [
  {
   "cell_type": "code",
   "execution_count": 2,
   "metadata": {},
   "outputs": [],
   "source": [
    "import netCDF4 as nc\n",
    "import matplotlib.pyplot as plt\n",
    "import numpy as np\n",
    "from matplotlib import animation\n",
    "from IPython.display import HTML\n",
    "import datetime\n",
    "import matplotlib as mpl\n",
    "%matplotlib inline\n",
    "\n",
    "mpl.rcParams['animation.embed_limit'] = 2**128\n",
    "mpl.rc('font', size=16) "
   ]
  },
  {
   "cell_type": "code",
   "execution_count": 3,
   "metadata": {
    "collapsed": true,
    "jupyter": {
     "outputs_hidden": true
    }
   },
   "outputs": [
    {
     "name": "stdout",
     "output_type": "stream",
     "text": [
      "<class 'netCDF4._netCDF4.Variable'>\n",
      "float32 longitude(longitude)\n",
      "    long_name: longitude\n",
      "    units: degrees_east\n",
      "unlimited dimensions: \n",
      "current shape = (700,)\n",
      "filling on, default _FillValue of 9.969209968386869e+36 used\n",
      "<class 'netCDF4._netCDF4.Variable'>\n",
      "float32 latitude(latitude)\n",
      "    long_name: latitude\n",
      "    units: degrees_north\n",
      "unlimited dimensions: \n",
      "current shape = (420,)\n",
      "filling on, default _FillValue of 9.969209968386869e+36 used\n",
      "<class 'netCDF4._netCDF4.Variable'>\n",
      "float32 level(level)\n",
      "    long_name: level\n",
      "    units: m\n",
      "unlimited dimensions: \n",
      "current shape = (1,)\n",
      "filling on, default _FillValue of 9.969209968386869e+36 used\n",
      "<class 'netCDF4._netCDF4.Variable'>\n",
      "float32 time(time)\n",
      "    long_name: ANALYSIS time from 20201021\n",
      "    units: hours\n",
      "unlimited dimensions: time\n",
      "current shape = (768,)\n",
      "filling on, default _FillValue of 9.969209968386869e+36 used\n",
      "<class 'netCDF4._netCDF4.Variable'>\n",
      "float32 ecff_conc(time, level, latitude, longitude)\n",
      "    _FillValue: -999.0\n",
      "    species: PM2.5 Elemental Carbon from Anthropogenic Fossil Fuels\n",
      "    units: µg/m3\n",
      "    value: hourly values\n",
      "    standard_name: Not Defined\n",
      "unlimited dimensions: time\n",
      "current shape = (768, 1, 420, 700)\n",
      "filling on\n"
     ]
    },
    {
     "name": "stderr",
     "output_type": "stream",
     "text": [
      "<ipython-input-3-1197318b92da>:8: DeprecationWarning: tostring() is deprecated. Use tobytes() instead.\n",
      "  print(var)\n"
     ]
    }
   ],
   "source": [
    "fn=\"data_eu_last_month.nc\"\n",
    "ds = nc.Dataset(fn)\n",
    "lon=ds['longitude'][:]\n",
    "lat=ds['latitude'][:]\n",
    "\n",
    "time=[datetime.datetime(2020,10,21)+datetime.timedelta(hours = i) for i in range(ds['time'].shape[0])]\n",
    "for var in ds.variables.values():\n",
    "    print(var)"
   ]
  },
  {
   "cell_type": "code",
   "execution_count": null,
   "metadata": {},
   "outputs": [],
   "source": []
  },
  {
   "cell_type": "code",
   "execution_count": 4,
   "metadata": {},
   "outputs": [
    {
     "name": "stdout",
     "output_type": "stream",
     "text": [
      "latitude: Beginnt:71.94999694824219; Endet:30.049999237060547\n",
      "longitude: Beginnt:335.04998779296875; Endet:44.95000076293945\n"
     ]
    }
   ],
   "source": [
    "print(f\"latitude: Beginnt:{lat[0]}; Endet:{lat[-1]}\")\n",
    "print(f\"longitude: Beginnt:{lon[0]}; Endet:{lon[-1]}\")"
   ]
  },
  {
   "cell_type": "code",
   "execution_count": 5,
   "metadata": {},
   "outputs": [],
   "source": [
    "alldata=[]\n",
    "for t in range(ds['time'].shape[0]):\n",
    "    alldata.append(ds['ecff_conc'][t,0,:,:])"
   ]
  },
  {
   "cell_type": "code",
   "execution_count": 10,
   "metadata": {},
   "outputs": [
    {
     "data": {
      "image/png": "[encoded data removed]",
      "text/plain": [
       "<Figure size 432x288 with 2 Axes>"
      ]
     },
     "metadata": {
      "needs_background": "light"
     },
     "output_type": "display_data"
    }
   ],
   "source": [
    "im=plt.imshow(alldata[100],interpolation='bilinear')\n",
    "plt.colorbar()\n",
    "im.set_array(alldata[0])"
   ]
  },
  {
   "cell_type": "code",
   "execution_count": null,
   "metadata": {},
   "outputs": [],
   "source": [
    "fig, ax = plt.subplots(1,1,dpi=100) \n",
    "im=plt.imshow(alldata[0],vmin=vmin, vmax=vmax,interpolation='bilinear')\n",
    "fig.set_size_inches(8,8)\n",
    "plt.colorbar(im,fraction=0.046, pad=0.04)\n",
    "\n",
    "def animate(i):\n",
    "    data=alldata[i]#ds['co_conc'][i,0,:,:]\n",
    "    print(i/length*100,end=\"\\r\")\n",
    "    im.set_array(data)\n",
    "    fig.suptitle(f\"PM2.5 Elemental Carbon from Anthropogenic Fossil Fuels \\n Cut at:{vmax}, elevation:0\\n Zeit:{time[i]}\")\n",
    "    #plt.draw()\n",
    "    \n",
    "length=24\n",
    "#ds['time'].shape[0]\n",
    "anim = animation.FuncAnimation(fig, animate, frames=length, repeat = False)\n",
    "#HTML(anim.to_jshtml())\n",
    "#HTML(anim.to_html5_video())"
   ]
  }
 ],
 "metadata": {
  "kernelspec": {
   "display_name": "Python 3",
   "language": "python",
   "name": "python3"
  },
  "language_info": {
   "codemirror_mode": {
    "name": "ipython",
    "version": 3
   },
   "file_extension": ".py",
   "mimetype": "text/x-python",
   "name": "python",
   "nbconvert_exporter": "python",
   "pygments_lexer": "ipython3",
   "version": "3.8.5"
  }
 },
 "nbformat": 4,
 "nbformat_minor": 4
}
