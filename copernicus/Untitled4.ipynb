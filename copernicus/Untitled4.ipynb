{
 "cells": [
  {
   "cell_type": "code",
   "execution_count": 4,
   "metadata": {},
   "outputs": [
    {
     "data": {
      "application/vnd.jupyter.widget-view+json": {
       "model_id": "e070076bf82a47c3a856ff2981e82aa6",
       "version_major": 2,
       "version_minor": 0
      },
      "text/plain": [
       "Canvas(toolbar=Toolbar(toolitems=[('Home', 'Reset original view', 'home', 'home'), ('Back', 'Back to previous …"
      ]
     },
     "metadata": {},
     "output_type": "display_data"
    }
   ],
   "source": [
    "import numpy as np\n",
    "import seaborn as sns\n",
    "import matplotlib.pyplot as plt\n",
    "from matplotlib import animation\n",
    "from IPython.display import HTML\n",
    "%matplotlib widget\n",
    "\n",
    "class Heatmap:\n",
    "\n",
    "    def __init__(self):\n",
    "        self.fig, self.ax = plt.subplots()\n",
    "        self.anim = None\n",
    "\n",
    "    def animate(self):\n",
    "        def init():\n",
    "            sns.heatmap(np.zeros((10, 10)), vmax=.8, ax=self.ax)\n",
    "\n",
    "        def animate(i):\n",
    "            self.ax.texts = []\n",
    "            sns.heatmap(np.random.rand(10, 10), annot=True, vmax=.8, cbar=False, ax=self.ax)\n",
    "\n",
    "        self.anim = animation.FuncAnimation(self.fig, animate, init_func=init, frames=20, repeat=False)\n",
    "        HTML(self.anim.to_jshtml())\n",
    "if __name__ == '__main__':\n",
    "    hm = Heatmap()\n",
    "    hm.animate()"
   ]
  }
 ],
 "metadata": {
  "kernelspec": {
   "display_name": "Python 3",
   "language": "python",
   "name": "python3"
  },
  "language_info": {
   "codemirror_mode": {
    "name": "ipython",
    "version": 3
   },
   "file_extension": ".py",
   "mimetype": "text/x-python",
   "name": "python",
   "nbconvert_exporter": "python",
   "pygments_lexer": "ipython3",
   "version": "3.8.5"
  }
 },
 "nbformat": 4,
 "nbformat_minor": 4
}
